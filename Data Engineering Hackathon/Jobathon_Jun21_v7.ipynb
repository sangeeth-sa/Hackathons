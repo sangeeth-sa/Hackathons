{
 "cells": [
  {
   "cell_type": "code",
   "execution_count": 1,
   "metadata": {
    "colab": {
     "base_uri": "https://localhost:8080/"
    },
    "id": "6u_Wn2hQQBvB",
    "outputId": "59fdcd08-958a-4493-db3f-7c88303ca9dc"
   },
   "outputs": [
    {
     "name": "stdout",
     "output_type": "stream",
     "text": [
      "Collecting pyspark\n",
      "\u001b[?25l  Downloading https://files.pythonhosted.org/packages/89/db/e18cfd78e408de957821ec5ca56de1250645b05f8523d169803d8df35a64/pyspark-3.1.2.tar.gz (212.4MB)\n",
      "\u001b[K     |████████████████████████████████| 212.4MB 64kB/s \n",
      "\u001b[?25hCollecting py4j==0.10.9\n",
      "\u001b[?25l  Downloading https://files.pythonhosted.org/packages/9e/b6/6a4fb90cd235dc8e265a6a2067f2a2c99f0d91787f06aca4bcf7c23f3f80/py4j-0.10.9-py2.py3-none-any.whl (198kB)\n",
      "\u001b[K     |████████████████████████████████| 204kB 18.6MB/s \n",
      "\u001b[?25hBuilding wheels for collected packages: pyspark\n",
      "  Building wheel for pyspark (setup.py) ... \u001b[?25l\u001b[?25hdone\n",
      "  Created wheel for pyspark: filename=pyspark-3.1.2-py2.py3-none-any.whl size=212880768 sha256=22fe2fe781c9bb4d79dc3a0529320f43dbdc59f21a71c92dbb695b96a48a7598\n",
      "  Stored in directory: /root/.cache/pip/wheels/40/1b/2c/30f43be2627857ab80062bef1527c0128f7b4070b6b2d02139\n",
      "Successfully built pyspark\n",
      "Installing collected packages: py4j, pyspark\n",
      "Successfully installed py4j-0.10.9 pyspark-3.1.2\n"
     ]
    }
   ],
   "source": [
    "!pip install pyspark"
   ]
  },
  {
   "cell_type": "code",
   "execution_count": 135,
   "metadata": {
    "id": "pwqayYqIQVNp"
   },
   "outputs": [],
   "source": [
    "# importing necessary libraries\n",
    "\n",
    "from pyspark.sql import SparkSession\n",
    "from pyspark.sql.functions import *\n",
    "from pyspark.sql.window import Window\n"
   ]
  },
  {
   "cell_type": "code",
   "execution_count": 136,
   "metadata": {
    "id": "3ZXgip-pQ2wJ"
   },
   "outputs": [],
   "source": [
    "# initialise spark session\n",
    "\n",
    "spark = SparkSession.builder.appName('Jobathon').getOrCreate()"
   ]
  },
  {
   "cell_type": "code",
   "execution_count": 137,
   "metadata": {
    "colab": {
     "base_uri": "https://localhost:8080/"
    },
    "id": "BJPDv1EFRKMc",
    "outputId": "f4fab981-9e48-4992-8dd2-60dde35b7d03"
   },
   "outputs": [
    {
     "name": "stdout",
     "output_type": "stream",
     "text": [
      "+--------------+--------------------+---------+-------+--------+-------------+--------+-----------+--------------------+\n",
      "|   webClientID|       VisitDateTime|ProductID| UserID|Activity|      Browser|      OS|       City|             Country|\n",
      "+--------------+--------------------+---------+-------+--------+-------------+--------+-----------+--------------------+\n",
      "| WI10000050298|2018-05-07 04:28:...| pr100631|   null|    null|Chrome Mobile| Android|    Chennai|               India|\n",
      "| WI10000025922|2018-05-13 07:26:...| pr100707|   null|    null|       Chrome| Windows|       null|              Taiwan|\n",
      "|WI100000204522|2018-05-11 11:43:...| pr100030|   null|   click|       Chrome| windows|    Gurgaon|               India|\n",
      "| WI10000011974|2018-05-13 15:20:...| Pr100192|   null|   CLICK|       Chrome| Windows|           |                    |\n",
      "|WI100000441953|2018-05-08 20:44:...| Pr100762|   null|   click|       Chrome|mac os x|     Iselin|       United States|\n",
      "| WI10000042224|2018-05-24 13:10:...| pr100109|   null|   click|       Chrome|Mac OS X|       null|              Taiwan|\n",
      "|WI100000532584|2018-05-23 14:52:...| pr100020|   null|   click|        Opera| Windows|       Baku|          Azerbaijan|\n",
      "|WI100000377250|2018-05-13 03:13:...| Pr101495|   null|   CLICK|       Chrome| Windows|Bayan Lepas|            Malaysia|\n",
      "| WI10000031378|2018-05-10 02:04:...| Pr100013|   null|   click|       Chrome| Windows|    Chakwal|            Pakistan|\n",
      "|WI100000278874|2018-05-25 13:40:...| Pr101701|   null|PAGELOAD|       Chrome| Windows|           |                    |\n",
      "|WI100000971872|2018-05-27 05:35:...| Pr100025|   null|    null|Chrome Mobile| Android|       null|               India|\n",
      "|WI100000746503|2018-05-16 11:56:...| Pr100896|   null|pageload|       Chrome| windows|       Lugo|               Italy|\n",
      "|WI100000535505|2018-05-23 18:40:...| Pr100086|   null|   click|       Chrome| Windows|       null|              Norway|\n",
      "| WI10000021996| 1527051855673000000| Pr100526|   null|    null|       Chrome|Mac OS X|  Escondido|United States Esc...|\n",
      "|WI100000112772| 1526366895249000000| Pr100017|U106593|   click|Chrome Mobile| Android|           |                    |\n",
      "|WI100000192090|2018-05-08 16:53:...| pr100157|   null|   click|       Chrome| Windows|    Saltash|      United Kingdom|\n",
      "|WI100000634672|2018-05-27 07:16:...| pr100469|   null|pageload|Chrome Mobile| Android|     Mumbai|               India|\n",
      "|WI100000199021| 1526982800506000000| Pr100681|   null|   click|       Chrome| Windows|       null|               India|\n",
      "| WI10000018251|2018-05-16 16:07:...| Pr100086|   null|   click|       Chrome| Windows|     Dallas|       United States|\n",
      "|  WI1000008108|2018-05-08 02:35:...| Pr100157|   null|   CLICK|       Chrome| Windows|       null|   Republic of Korea|\n",
      "+--------------+--------------------+---------+-------+--------+-------------+--------+-----------+--------------------+\n",
      "only showing top 20 rows\n",
      "\n"
     ]
    }
   ],
   "source": [
    "# read VisitorLog data\n",
    "\n",
    "visitorlog_df = spark.read.csv('VisitorLogsData.csv',header=True,inferSchema=True)\n",
    "visitorlog_df.show()"
   ]
  },
  {
   "cell_type": "code",
   "execution_count": 138,
   "metadata": {
    "colab": {
     "base_uri": "https://localhost:8080/"
    },
    "id": "pyN4YZgafL6p",
    "outputId": "08953dbc-c68b-4ebc-e7ab-d50cd926f550"
   },
   "outputs": [
    {
     "name": "stdout",
     "output_type": "stream",
     "text": [
      "+-------+--------------------+------------+\n",
      "| UserID|         Signup Date|User Segment|\n",
      "+-------+--------------------+------------+\n",
      "|U133159|2018-04-14 07:01:...|           C|\n",
      "|U129368|2017-12-02 09:38:...|           B|\n",
      "|U109654|2013-03-19 11:38:...|           B|\n",
      "|U108998|2018-01-18 08:29:...|           C|\n",
      "|U131393|2018-03-27 08:05:...|           B|\n",
      "|U101889|2018-01-24 12:50:...|           B|\n",
      "|U113233|2017-03-18 09:27:...|           B|\n",
      "|U115728|2017-08-18 11:40:...|           B|\n",
      "|U132899|2018-03-14 08:32:...|           B|\n",
      "|U107492|2018-04-10 20:42:...|           B|\n",
      "|U124573|2014-09-25 07:24:...|           B|\n",
      "|U121993|2018-03-30 05:49:...|           B|\n",
      "|U125731|2017-12-22 16:57:...|           B|\n",
      "|U102932|2018-02-10 20:30:...|           C|\n",
      "|U114104|2018-04-01 03:31:...|           C|\n",
      "|U115212|2016-03-10 04:56:...|           B|\n",
      "|U127832|2018-03-22 15:30:...|           B|\n",
      "|U129967|2018-02-17 04:20:...|           B|\n",
      "|U102610|2017-06-05 05:14:...|           A|\n",
      "|U112354|2017-09-02 12:47:...|           A|\n",
      "+-------+--------------------+------------+\n",
      "only showing top 20 rows\n",
      "\n"
     ]
    }
   ],
   "source": [
    "# read User data\n",
    "\n",
    "user_df = spark.read.csv('userTable.csv',header=True,inferSchema=True)\n",
    "user_df.show()"
   ]
  },
  {
   "cell_type": "code",
   "execution_count": 139,
   "metadata": {
    "colab": {
     "base_uri": "https://localhost:8080/"
    },
    "id": "ywMQAlwYjOKE",
    "outputId": "d10c761b-f372-4372-d3b6-e188ce7fc3df"
   },
   "outputs": [
    {
     "name": "stdout",
     "output_type": "stream",
     "text": [
      "root\n",
      " |-- webClientID: string (nullable = true)\n",
      " |-- VisitDateTime: string (nullable = true)\n",
      " |-- ProductID: string (nullable = true)\n",
      " |-- UserID: string (nullable = true)\n",
      " |-- Activity: string (nullable = true)\n",
      " |-- Browser: string (nullable = true)\n",
      " |-- OS: string (nullable = true)\n",
      " |-- City: string (nullable = true)\n",
      " |-- Country: string (nullable = true)\n",
      "\n"
     ]
    }
   ],
   "source": [
    "# VisitorLog data info\n",
    "\n",
    "visitorlog_df.printSchema()"
   ]
  },
  {
   "cell_type": "code",
   "execution_count": 140,
   "metadata": {
    "colab": {
     "base_uri": "https://localhost:8080/"
    },
    "id": "KPduTzyfj8f5",
    "outputId": "ab2ffc9f-8371-447e-b638-39e018ff9f38"
   },
   "outputs": [
    {
     "name": "stdout",
     "output_type": "stream",
     "text": [
      "root\n",
      " |-- UserID: string (nullable = true)\n",
      " |-- Signup Date: string (nullable = true)\n",
      " |-- User Segment: string (nullable = true)\n",
      "\n"
     ]
    }
   ],
   "source": [
    "# User data info\n",
    "\n",
    "user_df.printSchema()"
   ]
  },
  {
   "cell_type": "code",
   "execution_count": 141,
   "metadata": {
    "colab": {
     "base_uri": "https://localhost:8080/"
    },
    "id": "0trn0WNMkzIw",
    "outputId": "8a85f335-d9e4-46b8-f025-f5603c9fa06e"
   },
   "outputs": [
    {
     "name": "stdout",
     "output_type": "stream",
     "text": [
      "+-------+--------------+--------------------+---------+-------+--------+-------------+-------+-------+---------------+\n",
      "|summary|   webClientID|       VisitDateTime|ProductID| UserID|Activity|      Browser|     OS|   City|        Country|\n",
      "+-------+--------------+--------------------+---------+-------+--------+-------------+-------+-------+---------------+\n",
      "|  count|       6588000|             5929085|  6060863| 650695| 5698554|      6588000|6588000|4422169|        6190307|\n",
      "|   mean|          null|1.526554171346754...|     null|   null|    null|         null|   null|   null|           null|\n",
      "| stddev|          null|5.338116776808671E14|     null|   null|    null|         null|   null|   null|           null|\n",
      "|    min|     WI1000000| 1525651211454000000| Pr100000|U100002|   CLICK|AdsBot-Google|Android|       |               |\n",
      "|    max|WI100000999999|2018-05-27 23:59:...| pr112449|U136965|pageload|      net/bot|windows|  ‘Aiea|Åland Mariehamn|\n",
      "+-------+--------------+--------------------+---------+-------+--------+-------------+-------+-------+---------------+\n",
      "\n"
     ]
    }
   ],
   "source": [
    "# statistical description\n",
    "\n",
    "visitorlog_df.describe().show()"
   ]
  },
  {
   "cell_type": "code",
   "execution_count": 142,
   "metadata": {
    "colab": {
     "base_uri": "https://localhost:8080/"
    },
    "id": "4DYsvaLpk5px",
    "outputId": "d642ef0c-d21d-4e80-85c3-3531a859db98"
   },
   "outputs": [
    {
     "name": "stdout",
     "output_type": "stream",
     "text": [
      "+-------+-------+--------------------+------------+\n",
      "|summary| UserID|         Signup Date|User Segment|\n",
      "+-------+-------+--------------------+------------+\n",
      "|  count|  34050|               34050|       34050|\n",
      "|   mean|   null|                null|        null|\n",
      "| stddev|   null|                null|        null|\n",
      "|    min|U100002|2010-12-01 03:11:...|           A|\n",
      "|    max|U136965|2018-05-20 07:06:...|           C|\n",
      "+-------+-------+--------------------+------------+\n",
      "\n"
     ]
    }
   ],
   "source": [
    "# statistical description\n",
    "\n",
    "user_df.describe().show()"
   ]
  },
  {
   "cell_type": "code",
   "execution_count": 143,
   "metadata": {
    "colab": {
     "base_uri": "https://localhost:8080/"
    },
    "id": "kblJodA4v0VS",
    "outputId": "927127c1-0d47-41db-b1d5-6dbb6f3f0d94"
   },
   "outputs": [
    {
     "name": "stdout",
     "output_type": "stream",
     "text": [
      "+-------+--------------+--------------------+---------+--------+-------------+---------+----------------+--------------------+--------------------+------------+\n",
      "| UserID|   webClientID|       VisitDateTime|ProductID|Activity|      Browser|       OS|            City|             Country|         Signup Date|User Segment|\n",
      "+-------+--------------+--------------------+---------+--------+-------------+---------+----------------+--------------------+--------------------+------------+\n",
      "|U106593|WI100000112772| 1526366895249000000| Pr100017|   click|Chrome Mobile|  Android|                |                    |2017-09-10 15:48:...|           B|\n",
      "|U108297|  WI1000009977| 1527058921790000000| Pr101008|    null|Chrome Mobile|  Android|           Delhi|               India|2015-05-26 04:52:...|           B|\n",
      "|U132443|WI100000223826|2018-05-10 06:28:...| Pr100241|    null|      Firefox|  Windows|            null|               India|2017-09-29 18:26:...|           C|\n",
      "|U134616| WI10000021998|2018-05-08 12:40:...| pr100495|   click|       Chrome|  Windows|   Cottage Grove|       United States|2017-03-06 15:04:...|           C|\n",
      "|U130784| WI10000036281|2018-05-11 15:35:...| Pr100363|   click|       Chrome|Chrome OS|       New Delhi|               India|2017-09-07 18:44:...|           B|\n",
      "|U120983|WI100000110130|2018-05-19 00:02:...| pr100340|   click|       Chrome|  Windows|          Mumbai|               India|2018-03-11 05:06:...|           C|\n",
      "|U120287| WI10000014616|2018-05-19 04:51:...| Pr100166|   click|       Chrome|  Windows|            null|                null|2018-04-11 18:22:...|           C|\n",
      "|U124307|WI100000102012|2018-05-07 05:54:...| pr101042|   CLICK|       Chrome| Mac OS X|            null|               India|2016-09-04 04:44:...|           B|\n",
      "|U113937| WI10000018039|2018-05-23 09:44:...| Pr101042|   CLICK|       Safari| mac os x|         Dailekh|               Nepal|2017-12-19 07:34:...|           C|\n",
      "|U115735|  WI1000001200|2018-05-13 13:17:...| Pr101042|   click|       Chrome|  Windows|         Khammam|               India|2018-04-09 04:39:...|           A|\n",
      "|U103943| WI10000022937|2018-05-16 12:39:...| Pr101964|   click|       Chrome|  Windows|            null|                null|2018-03-23 06:15:...|           C|\n",
      "|U125369|WI100000129930|2018-05-14 06:37:...| Pr100573|   click|Mobile Safari|      iOS|           Thane|         India Thane|2018-03-02 10:02:...|           B|\n",
      "|U111160|WI100000319667|2018-05-25 06:01:...| pr100044|   click|Chrome Mobile|  Android|       Bengaluru|               India|2018-01-12 15:53:...|           B|\n",
      "|U106132|WI100000223289|2018-05-19 18:48:...| pr100152|   click|       Chrome| Mac OS X|     Bentonville|       United States|2015-07-18 16:06:...|           B|\n",
      "|U123525|  WI1000006759|2018-05-17 23:26:...| Pr101614|pageload|Chrome Mobile|  Android|      Hanamigawa|               Japan|2018-03-27 06:01:...|           A|\n",
      "|U119431|  WI1000001500|2018-05-21 05:28:...| Pr100339|   click|       Chrome|  windows|         Kolkata|               India|2017-04-15 05:41:...|           B|\n",
      "|U101041| WI10000063956|2018-05-16 04:47:...| Pr100784|   click|       Chrome|  Windows|Ho Chi Minh City|Vietnam Ho Chi Mi...|2017-11-28 09:43:...|           C|\n",
      "|U101158|  WI1000009950|2018-05-07 08:28:...| Pr101042|   click|       Chrome|  Windows|            null|               India|2018-04-12 09:20:...|           B|\n",
      "|U120095| WI10000023672| 1526829725361000000| Pr100193|   click|       Chrome|  Windows|            null|               India|2017-12-18 08:14:...|           C|\n",
      "|U110592| WI10000040950|2018-05-15 11:07:...| Pr100106|   click|       Chrome| Mac OS X|            null|       United States|2016-02-15 17:35:...|           C|\n",
      "+-------+--------------+--------------------+---------+--------+-------------+---------+----------------+--------------------+--------------------+------------+\n",
      "only showing top 20 rows\n",
      "\n"
     ]
    }
   ],
   "source": [
    "# combining VisitorLog and User tables\n",
    "\n",
    "join_df = visitorlog_df.join(user_df,['UserID'],'inner')\n",
    "join_df.show()"
   ]
  },
  {
   "cell_type": "code",
   "execution_count": 144,
   "metadata": {
    "colab": {
     "base_uri": "https://localhost:8080/"
    },
    "id": "ROLTLYqYzOUf",
    "outputId": "228a6d20-d353-421f-d815-40b4537f96d3"
   },
   "outputs": [
    {
     "name": "stdout",
     "output_type": "stream",
     "text": [
      "+-------+-------+--------------+--------------------+---------+--------+--------------+-------+------+---------------+--------------------+------------+\n",
      "|summary| UserID|   webClientID|       VisitDateTime|ProductID|Activity|       Browser|     OS|  City|        Country|         Signup Date|User Segment|\n",
      "+-------+-------+--------------+--------------------+---------+--------+--------------+-------+------+---------------+--------------------+------------+\n",
      "|  count| 650695|        650695|              585892|   598732|  562938|        650695| 650695|414571|         607868|              650695|      650695|\n",
      "|   mean|   null|          null|1.526549450754298...|     null|    null|          null|   null|  null|           null|                null|        null|\n",
      "| stddev|   null|          null| 5.46457639900986E14|     null|    null|          null|   null|  null|           null|                null|        null|\n",
      "|    min|U100002|     WI1000000| 1525651214036000000| Pr100000|   CLICK|   Amazon Silk|Android|      |               |2010-12-01 03:11:...|           A|\n",
      "|    max|U136965|WI100000999970|2018-05-27 23:59:...| pr112440|pageload|Yandex Browser|windows|Žilina|Zimbabwe Harare|2018-05-20 07:06:...|           C|\n",
      "+-------+-------+--------------+--------------------+---------+--------+--------------+-------+------+---------------+--------------------+------------+\n",
      "\n"
     ]
    }
   ],
   "source": [
    "join_df.describe().show()"
   ]
  },
  {
   "cell_type": "code",
   "execution_count": 145,
   "metadata": {
    "colab": {
     "base_uri": "https://localhost:8080/"
    },
    "id": "hjadF2Vc5KiL",
    "outputId": "4a895d7f-4858-42f2-ee01-b51bcd182137"
   },
   "outputs": [
    {
     "name": "stdout",
     "output_type": "stream",
     "text": [
      "+-------+--------------+--------------------+---------+--------+-------------+---------+--------------------+\n",
      "| UserID|   webClientID|       VisitDateTime|ProductID|Activity|      Browser|       OS|         Signup Date|\n",
      "+-------+--------------+--------------------+---------+--------+-------------+---------+--------------------+\n",
      "|U106593|WI100000112772| 1526366895249000000| Pr100017|   click|Chrome Mobile|  Android|2017-09-10 15:48:...|\n",
      "|U108297|  WI1000009977| 1527058921790000000| Pr101008|    null|Chrome Mobile|  Android|2015-05-26 04:52:...|\n",
      "|U132443|WI100000223826|2018-05-10 06:28:...| Pr100241|    null|      Firefox|  Windows|2017-09-29 18:26:...|\n",
      "|U134616| WI10000021998|2018-05-08 12:40:...| pr100495|   click|       Chrome|  Windows|2017-03-06 15:04:...|\n",
      "|U130784| WI10000036281|2018-05-11 15:35:...| Pr100363|   click|       Chrome|Chrome OS|2017-09-07 18:44:...|\n",
      "|U120983|WI100000110130|2018-05-19 00:02:...| pr100340|   click|       Chrome|  Windows|2018-03-11 05:06:...|\n",
      "|U120287| WI10000014616|2018-05-19 04:51:...| Pr100166|   click|       Chrome|  Windows|2018-04-11 18:22:...|\n",
      "|U124307|WI100000102012|2018-05-07 05:54:...| pr101042|   CLICK|       Chrome| Mac OS X|2016-09-04 04:44:...|\n",
      "|U113937| WI10000018039|2018-05-23 09:44:...| Pr101042|   CLICK|       Safari| mac os x|2017-12-19 07:34:...|\n",
      "|U115735|  WI1000001200|2018-05-13 13:17:...| Pr101042|   click|       Chrome|  Windows|2018-04-09 04:39:...|\n",
      "|U103943| WI10000022937|2018-05-16 12:39:...| Pr101964|   click|       Chrome|  Windows|2018-03-23 06:15:...|\n",
      "|U125369|WI100000129930|2018-05-14 06:37:...| Pr100573|   click|Mobile Safari|      iOS|2018-03-02 10:02:...|\n",
      "|U111160|WI100000319667|2018-05-25 06:01:...| pr100044|   click|Chrome Mobile|  Android|2018-01-12 15:53:...|\n",
      "|U106132|WI100000223289|2018-05-19 18:48:...| pr100152|   click|       Chrome| Mac OS X|2015-07-18 16:06:...|\n",
      "|U123525|  WI1000006759|2018-05-17 23:26:...| Pr101614|pageload|Chrome Mobile|  Android|2018-03-27 06:01:...|\n",
      "|U119431|  WI1000001500|2018-05-21 05:28:...| Pr100339|   click|       Chrome|  windows|2017-04-15 05:41:...|\n",
      "|U101041| WI10000063956|2018-05-16 04:47:...| Pr100784|   click|       Chrome|  Windows|2017-11-28 09:43:...|\n",
      "|U101158|  WI1000009950|2018-05-07 08:28:...| Pr101042|   click|       Chrome|  Windows|2018-04-12 09:20:...|\n",
      "|U120095| WI10000023672| 1526829725361000000| Pr100193|   click|       Chrome|  Windows|2017-12-18 08:14:...|\n",
      "|U110592| WI10000040950|2018-05-15 11:07:...| Pr100106|   click|       Chrome| Mac OS X|2016-02-15 17:35:...|\n",
      "+-------+--------------+--------------------+---------+--------+-------------+---------+--------------------+\n",
      "only showing top 20 rows\n",
      "\n"
     ]
    }
   ],
   "source": [
    "# dropping irrelevant columns\n",
    " \n",
    "join_df = join_df.drop('Country','City','User Segment')\n",
    "join_df.show()"
   ]
  },
  {
   "cell_type": "code",
   "execution_count": 146,
   "metadata": {
    "colab": {
     "base_uri": "https://localhost:8080/"
    },
    "id": "uHbMmdmysGP7",
    "outputId": "59f67840-f7ec-49ae-bb95-5a500c73653e"
   },
   "outputs": [
    {
     "data": {
      "text/plain": [
       "34050"
      ]
     },
     "execution_count": 146,
     "metadata": {
      "tags": []
     },
     "output_type": "execute_result"
    }
   ],
   "source": [
    "# checking count of unique UserID's\n",
    "\n",
    "join_df.select('UserID').distinct().count()"
   ]
  },
  {
   "cell_type": "code",
   "execution_count": 147,
   "metadata": {
    "colab": {
     "base_uri": "https://localhost:8080/"
    },
    "id": "0dTO4h1zD12r",
    "outputId": "b40dddcb-6a06-4746-f315-af0bc3ad10d7"
   },
   "outputs": [
    {
     "name": "stdout",
     "output_type": "stream",
     "text": [
      "(650695, 8)\n"
     ]
    }
   ],
   "source": [
    "# checking shape of data\n",
    " \n",
    "print((join_df.count(), len(join_df.columns)))"
   ]
  },
  {
   "cell_type": "code",
   "execution_count": 148,
   "metadata": {
    "colab": {
     "base_uri": "https://localhost:8080/"
    },
    "id": "waugHWhJzred",
    "outputId": "dd67e7a5-91df-4428-b09c-2c884efe62e9"
   },
   "outputs": [
    {
     "name": "stdout",
     "output_type": "stream",
     "text": [
      "+------+-----------+-------------+---------+--------+-------+---+-----------+\n",
      "|UserID|webClientID|VisitDateTime|ProductID|Activity|Browser| OS|Signup Date|\n",
      "+------+-----------+-------------+---------+--------+-------+---+-----------+\n",
      "|     0|          0|        64803|    51963|   87757|      0|  0|          0|\n",
      "+------+-----------+-------------+---------+--------+-------+---+-----------+\n",
      "\n"
     ]
    }
   ],
   "source": [
    "# checking count of null values in each column\n",
    "\n",
    "join_df.select([count(when(isnull(c), c)).alias(c) for c in join_df.columns]).show()"
   ]
  },
  {
   "cell_type": "code",
   "execution_count": 149,
   "metadata": {
    "colab": {
     "base_uri": "https://localhost:8080/"
    },
    "id": "XEZ8sUJc4LN9",
    "outputId": "de334e06-383f-42cd-d719-10735bd0d129"
   },
   "outputs": [
    {
     "name": "stdout",
     "output_type": "stream",
     "text": [
      "+-------+--------------+-------------+---------+--------+-------------+---------+-----------+\n",
      "| UserID|   webClientID|VisitDateTime|ProductID|Activity|      Browser|       OS|Signup Date|\n",
      "+-------+--------------+-------------+---------+--------+-------------+---------+-----------+\n",
      "|U106593|WI100000112772|   2018-05-15| Pr100017|   click|Chrome Mobile|  Android| 2017-09-10|\n",
      "|U108297|  WI1000009977|   2018-05-23| Pr101008|    null|Chrome Mobile|  Android| 2015-05-26|\n",
      "|U132443|WI100000223826|   2018-05-10| Pr100241|    null|      Firefox|  Windows| 2017-09-29|\n",
      "|U134616| WI10000021998|   2018-05-08| pr100495|   click|       Chrome|  Windows| 2017-03-06|\n",
      "|U130784| WI10000036281|   2018-05-11| Pr100363|   click|       Chrome|Chrome OS| 2017-09-07|\n",
      "|U120983|WI100000110130|   2018-05-19| pr100340|   click|       Chrome|  Windows| 2018-03-11|\n",
      "|U120287| WI10000014616|   2018-05-19| Pr100166|   click|       Chrome|  Windows| 2018-04-11|\n",
      "|U124307|WI100000102012|   2018-05-07| pr101042|   CLICK|       Chrome| Mac OS X| 2016-09-04|\n",
      "|U113937| WI10000018039|   2018-05-23| Pr101042|   CLICK|       Safari| mac os x| 2017-12-19|\n",
      "|U115735|  WI1000001200|   2018-05-13| Pr101042|   click|       Chrome|  Windows| 2018-04-09|\n",
      "|U103943| WI10000022937|   2018-05-16| Pr101964|   click|       Chrome|  Windows| 2018-03-23|\n",
      "|U125369|WI100000129930|   2018-05-14| Pr100573|   click|Mobile Safari|      iOS| 2018-03-02|\n",
      "|U111160|WI100000319667|   2018-05-25| pr100044|   click|Chrome Mobile|  Android| 2018-01-12|\n",
      "|U106132|WI100000223289|   2018-05-19| pr100152|   click|       Chrome| Mac OS X| 2015-07-18|\n",
      "|U123525|  WI1000006759|   2018-05-17| Pr101614|pageload|Chrome Mobile|  Android| 2018-03-27|\n",
      "|U119431|  WI1000001500|   2018-05-21| Pr100339|   click|       Chrome|  windows| 2017-04-15|\n",
      "|U101041| WI10000063956|   2018-05-16| Pr100784|   click|       Chrome|  Windows| 2017-11-28|\n",
      "|U101158|  WI1000009950|   2018-05-07| Pr101042|   click|       Chrome|  Windows| 2018-04-12|\n",
      "|U120095| WI10000023672|   2018-05-20| Pr100193|   click|       Chrome|  Windows| 2017-12-18|\n",
      "|U110592| WI10000040950|   2018-05-15| Pr100106|   click|       Chrome| Mac OS X| 2016-02-15|\n",
      "+-------+--------------+-------------+---------+--------+-------------+---------+-----------+\n",
      "only showing top 20 rows\n",
      "\n"
     ]
    }
   ],
   "source": [
    "# converting VisitDatetime & Signup Date timestamps to date format\n",
    "\n",
    "join_df = join_df.withColumn('VisitDateTime', when(length('VisitDateTime')==19, to_date(from_unixtime(col('VisitDateTime')/(10**9),'yyyy-MM-dd'))).otherwise(to_date(col('VisitDateTime'))))\n",
    "join_df = join_df.withColumn('Signup Date',to_date(col('Signup Date')))\n",
    "\n",
    "join_df.show()"
   ]
  },
  {
   "cell_type": "code",
   "execution_count": 150,
   "metadata": {
    "colab": {
     "base_uri": "https://localhost:8080/"
    },
    "id": "5Uso_bKxLWTy",
    "outputId": "3363a4bb-03a5-4f32-c3e7-6ebe5841fa1b"
   },
   "outputs": [
    {
     "data": {
      "text/plain": [
       "[Row(Activity=None),\n",
       " Row(Activity='CLICK'),\n",
       " Row(Activity='click'),\n",
       " Row(Activity='PAGELOAD'),\n",
       " Row(Activity='pageload')]"
      ]
     },
     "execution_count": 150,
     "metadata": {
      "tags": []
     },
     "output_type": "execute_result"
    }
   ],
   "source": [
    "join_df.select('Activity').distinct().collect()"
   ]
  },
  {
   "cell_type": "code",
   "execution_count": 151,
   "metadata": {
    "colab": {
     "base_uri": "https://localhost:8080/"
    },
    "id": "3OO7NJoKHcnN",
    "outputId": "5cf154fc-d5c4-4af6-e0b9-4f501f58ba23"
   },
   "outputs": [
    {
     "name": "stdout",
     "output_type": "stream",
     "text": [
      "+-------+--------------+-------------+---------+--------+-------------+---------+-----------+\n",
      "| UserID|   webClientID|VisitDateTime|ProductID|Activity|      Browser|       OS|Signup Date|\n",
      "+-------+--------------+-------------+---------+--------+-------------+---------+-----------+\n",
      "|U106593|WI100000112772|   2018-05-15| Pr100017|   CLICK|Chrome Mobile|  Android| 2017-09-10|\n",
      "|U108297|  WI1000009977|   2018-05-23| Pr101008|    null|Chrome Mobile|  Android| 2015-05-26|\n",
      "|U132443|WI100000223826|   2018-05-10| Pr100241|    null|      Firefox|  Windows| 2017-09-29|\n",
      "|U134616| WI10000021998|   2018-05-08| pr100495|   CLICK|       Chrome|  Windows| 2017-03-06|\n",
      "|U130784| WI10000036281|   2018-05-11| Pr100363|   CLICK|       Chrome|Chrome OS| 2017-09-07|\n",
      "|U120983|WI100000110130|   2018-05-19| pr100340|   CLICK|       Chrome|  Windows| 2018-03-11|\n",
      "|U120287| WI10000014616|   2018-05-19| Pr100166|   CLICK|       Chrome|  Windows| 2018-04-11|\n",
      "|U124307|WI100000102012|   2018-05-07| pr101042|   CLICK|       Chrome| Mac OS X| 2016-09-04|\n",
      "|U113937| WI10000018039|   2018-05-23| Pr101042|   CLICK|       Safari| mac os x| 2017-12-19|\n",
      "|U115735|  WI1000001200|   2018-05-13| Pr101042|   CLICK|       Chrome|  Windows| 2018-04-09|\n",
      "|U103943| WI10000022937|   2018-05-16| Pr101964|   CLICK|       Chrome|  Windows| 2018-03-23|\n",
      "|U125369|WI100000129930|   2018-05-14| Pr100573|   CLICK|Mobile Safari|      iOS| 2018-03-02|\n",
      "|U111160|WI100000319667|   2018-05-25| pr100044|   CLICK|Chrome Mobile|  Android| 2018-01-12|\n",
      "|U106132|WI100000223289|   2018-05-19| pr100152|   CLICK|       Chrome| Mac OS X| 2015-07-18|\n",
      "|U123525|  WI1000006759|   2018-05-17| Pr101614|PAGELOAD|Chrome Mobile|  Android| 2018-03-27|\n",
      "|U119431|  WI1000001500|   2018-05-21| Pr100339|   CLICK|       Chrome|  windows| 2017-04-15|\n",
      "|U101041| WI10000063956|   2018-05-16| Pr100784|   CLICK|       Chrome|  Windows| 2017-11-28|\n",
      "|U101158|  WI1000009950|   2018-05-07| Pr101042|   CLICK|       Chrome|  Windows| 2018-04-12|\n",
      "|U120095| WI10000023672|   2018-05-20| Pr100193|   CLICK|       Chrome|  Windows| 2017-12-18|\n",
      "|U110592| WI10000040950|   2018-05-15| Pr100106|   CLICK|       Chrome| Mac OS X| 2016-02-15|\n",
      "+-------+--------------+-------------+---------+--------+-------------+---------+-----------+\n",
      "only showing top 20 rows\n",
      "\n"
     ]
    }
   ],
   "source": [
    "# converting Activity column values to uppercase\n",
    "\n",
    "join_df = join_df.withColumn('Activity', upper(col('Activity')))\n",
    "join_df.show()"
   ]
  },
  {
   "cell_type": "code",
   "execution_count": 152,
   "metadata": {
    "colab": {
     "base_uri": "https://localhost:8080/"
    },
    "id": "E6fVF6SzTmzQ",
    "outputId": "792b6ebf-4eac-4414-ebb9-9d8775caefce"
   },
   "outputs": [
    {
     "name": "stdout",
     "output_type": "stream",
     "text": [
      "+-------+------------+\n",
      "| UserID|Activity_New|\n",
      "+-------+------------+\n",
      "|U100364|       CLICK|\n",
      "|U100499|       CLICK|\n",
      "|U100608|    PAGELOAD|\n",
      "|U100611|    PAGELOAD|\n",
      "|U100754|       CLICK|\n",
      "|U100999|       CLICK|\n",
      "|U102315|       CLICK|\n",
      "|U103221|    PAGELOAD|\n",
      "|U103279|    PAGELOAD|\n",
      "|U103647|    PAGELOAD|\n",
      "|U103859|       CLICK|\n",
      "|U103874|    PAGELOAD|\n",
      "|U103924|    PAGELOAD|\n",
      "|U104238|       CLICK|\n",
      "|U104440|       CLICK|\n",
      "|U104625|    PAGELOAD|\n",
      "|U104644|       CLICK|\n",
      "|U104722|    PAGELOAD|\n",
      "|U105187|    PAGELOAD|\n",
      "|U105380|    PAGELOAD|\n",
      "+-------+------------+\n",
      "only showing top 20 rows\n",
      "\n"
     ]
    }
   ],
   "source": [
    "# Activity column null value imputation\n",
    "\n",
    "activity_counts = join_df.groupBy(['UserID', 'Activity']).agg(count(when(col('Activity').isNotNull(), col('Activity') ).otherwise(None)).alias('count'))\n",
    "\n",
    "win = Window().partitionBy('UserID').orderBy(col('count').desc())\n",
    "result = (activity_counts\n",
    "          .withColumn('row_num', row_number().over(win))\n",
    "          .where(col('row_num') == 1)\n",
    "          .select('UserID', 'Activity')\n",
    "         )\n",
    "result = result.withColumnRenamed('Activity','Activity_New')\n",
    "result.show()"
   ]
  },
  {
   "cell_type": "code",
   "execution_count": 153,
   "metadata": {
    "colab": {
     "base_uri": "https://localhost:8080/"
    },
    "id": "6UUG1DDBVb4H",
    "outputId": "8f587d33-8db4-4190-e52b-2999e12cbdd2"
   },
   "outputs": [
    {
     "name": "stdout",
     "output_type": "stream",
     "text": [
      "+-------+--------------+-------------+---------+--------+-------+-------+-----------+------------+\n",
      "| UserID|   webClientID|VisitDateTime|ProductID|Activity|Browser|     OS|Signup Date|Activity_New|\n",
      "+-------+--------------+-------------+---------+--------+-------+-------+-----------+------------+\n",
      "|U100364|WI100000401415|   2018-05-14| pr100152|   CLICK| Chrome|Windows| 2017-07-23|       CLICK|\n",
      "|U100364|WI100000401415|   2018-05-14| Pr100152|    null| Chrome|Windows| 2017-07-23|       CLICK|\n",
      "|U100499|  WI1000004168|   2018-05-15| Pr101042|   CLICK| Chrome|Windows| 2017-02-08|       CLICK|\n",
      "|U100499|  WI1000004168|   2018-05-19| Pr101042|   CLICK| Chrome|Windows| 2017-02-08|       CLICK|\n",
      "|U100499|  WI1000004168|   2018-05-15|     null|   CLICK| Chrome|Windows| 2017-02-08|       CLICK|\n",
      "|U100499|  WI1000004168|         null|     null|   CLICK| Chrome|Windows| 2017-02-08|       CLICK|\n",
      "|U100499|  WI1000004168|   2018-05-23| pr101042|   CLICK| Chrome|Windows| 2017-02-08|       CLICK|\n",
      "|U100499|  WI1000004168|   2018-05-21| Pr101042|   CLICK| Chrome|Windows| 2017-02-08|       CLICK|\n",
      "|U100499|  WI1000004168|         null| pr101042|   CLICK| Chrome|Windows| 2017-02-08|       CLICK|\n",
      "|U100499|  WI1000004168|   2018-05-22|     null|   CLICK| Chrome|Windows| 2017-02-08|       CLICK|\n",
      "|U100499|  WI1000004168|   2018-05-27| Pr101042|   CLICK| Chrome|Windows| 2017-02-08|       CLICK|\n",
      "|U100499|  WI1000004168|         null|     null|    null| Chrome|Windows| 2017-02-08|       CLICK|\n",
      "|U100499|  WI1000004168|   2018-05-23| pr101042|   CLICK| Chrome|Windows| 2017-02-08|       CLICK|\n",
      "|U100499|  WI1000004168|   2018-05-27| pr101042|   CLICK| Chrome|Windows| 2017-02-08|       CLICK|\n",
      "|U100499|  WI1000004168|   2018-05-26|     null|   CLICK| Chrome|Windows| 2017-02-08|       CLICK|\n",
      "|U100499|  WI1000004168|   2018-05-27| pr100051|PAGELOAD| Chrome|Windows| 2017-02-08|       CLICK|\n",
      "|U100499|  WI1000004168|   2018-05-23| Pr101042|   CLICK| Chrome|Windows| 2017-02-08|       CLICK|\n",
      "|U100499|  WI1000004168|   2018-05-15| pr101042|   CLICK| Chrome|Windows| 2017-02-08|       CLICK|\n",
      "|U100499|  WI1000004168|   2018-05-21| Pr101042|   CLICK| Chrome|Windows| 2017-02-08|       CLICK|\n",
      "|U100499|  WI1000004168|   2018-05-25| Pr101367|PAGELOAD| Chrome|Windows| 2017-02-08|       CLICK|\n",
      "+-------+--------------+-------------+---------+--------+-------+-------+-----------+------------+\n",
      "only showing top 20 rows\n",
      "\n"
     ]
    }
   ],
   "source": [
    "join_df = join_df.join(result,['UserID'],'inner')\n",
    "join_df.show()"
   ]
  },
  {
   "cell_type": "code",
   "execution_count": 154,
   "metadata": {
    "colab": {
     "base_uri": "https://localhost:8080/"
    },
    "id": "F36vLl1BfJM9",
    "outputId": "8c0e3e3b-00e4-491f-a65d-99d13abeacb7"
   },
   "outputs": [
    {
     "name": "stdout",
     "output_type": "stream",
     "text": [
      "+-------+--------------+-------------+---------+--------+-------+-------+-----------+\n",
      "| UserID|   webClientID|VisitDateTime|ProductID|Activity|Browser|     OS|Signup Date|\n",
      "+-------+--------------+-------------+---------+--------+-------+-------+-----------+\n",
      "|U100364|WI100000401415|   2018-05-14| pr100152|   CLICK| Chrome|Windows| 2017-07-23|\n",
      "|U100364|WI100000401415|   2018-05-14| Pr100152|   CLICK| Chrome|Windows| 2017-07-23|\n",
      "|U100499|  WI1000004168|   2018-05-15| Pr101042|   CLICK| Chrome|Windows| 2017-02-08|\n",
      "|U100499|  WI1000004168|   2018-05-19| Pr101042|   CLICK| Chrome|Windows| 2017-02-08|\n",
      "|U100499|  WI1000004168|   2018-05-15|     null|   CLICK| Chrome|Windows| 2017-02-08|\n",
      "|U100499|  WI1000004168|         null|     null|   CLICK| Chrome|Windows| 2017-02-08|\n",
      "|U100499|  WI1000004168|   2018-05-23| pr101042|   CLICK| Chrome|Windows| 2017-02-08|\n",
      "|U100499|  WI1000004168|   2018-05-21| Pr101042|   CLICK| Chrome|Windows| 2017-02-08|\n",
      "|U100499|  WI1000004168|         null| pr101042|   CLICK| Chrome|Windows| 2017-02-08|\n",
      "|U100499|  WI1000004168|   2018-05-22|     null|   CLICK| Chrome|Windows| 2017-02-08|\n",
      "|U100499|  WI1000004168|   2018-05-27| Pr101042|   CLICK| Chrome|Windows| 2017-02-08|\n",
      "|U100499|  WI1000004168|         null|     null|   CLICK| Chrome|Windows| 2017-02-08|\n",
      "|U100499|  WI1000004168|   2018-05-23| pr101042|   CLICK| Chrome|Windows| 2017-02-08|\n",
      "|U100499|  WI1000004168|   2018-05-27| pr101042|   CLICK| Chrome|Windows| 2017-02-08|\n",
      "|U100499|  WI1000004168|   2018-05-26|     null|   CLICK| Chrome|Windows| 2017-02-08|\n",
      "|U100499|  WI1000004168|   2018-05-27| pr100051|PAGELOAD| Chrome|Windows| 2017-02-08|\n",
      "|U100499|  WI1000004168|   2018-05-23| Pr101042|   CLICK| Chrome|Windows| 2017-02-08|\n",
      "|U100499|  WI1000004168|   2018-05-15| pr101042|   CLICK| Chrome|Windows| 2017-02-08|\n",
      "|U100499|  WI1000004168|   2018-05-21| Pr101042|   CLICK| Chrome|Windows| 2017-02-08|\n",
      "|U100499|  WI1000004168|   2018-05-25| Pr101367|PAGELOAD| Chrome|Windows| 2017-02-08|\n",
      "+-------+--------------+-------------+---------+--------+-------+-------+-----------+\n",
      "only showing top 20 rows\n",
      "\n"
     ]
    }
   ],
   "source": [
    "# replacing null value in Activity column with the most frequent Activity based on UserID\n",
    "\n",
    "join_df = join_df.withColumn('Activity',when(col('Activity').isNull(), col('Activity_New')).otherwise(col('Activity')))\n",
    "join_df = join_df.drop('Activity_New')\n",
    "join_df.show()"
   ]
  },
  {
   "cell_type": "code",
   "execution_count": 155,
   "metadata": {
    "colab": {
     "base_uri": "https://localhost:8080/"
    },
    "id": "QFjzNSK_8aMZ",
    "outputId": "0c4d1493-ca2d-4497-eab4-56476b8f6bd5"
   },
   "outputs": [
    {
     "data": {
      "text/plain": [
       "[Row(OS='android'),\n",
       " Row(OS='iOS'),\n",
       " Row(OS='ubuntu'),\n",
       " Row(OS='fedora'),\n",
       " Row(OS='Linux'),\n",
       " Row(OS='Fedora'),\n",
       " Row(OS='Chrome OS'),\n",
       " Row(OS='Ubuntu'),\n",
       " Row(OS='linux'),\n",
       " Row(OS='Tizen'),\n",
       " Row(OS='Android'),\n",
       " Row(OS='Mac OS X'),\n",
       " Row(OS='ios'),\n",
       " Row(OS='chrome os'),\n",
       " Row(OS='tizen'),\n",
       " Row(OS='Windows'),\n",
       " Row(OS='mac os x'),\n",
       " Row(OS='windows')]"
      ]
     },
     "execution_count": 155,
     "metadata": {
      "tags": []
     },
     "output_type": "execute_result"
    }
   ],
   "source": [
    "join_df.select('OS').distinct().collect()"
   ]
  },
  {
   "cell_type": "code",
   "execution_count": 156,
   "metadata": {
    "colab": {
     "base_uri": "https://localhost:8080/"
    },
    "id": "FFa5O5Y18bkB",
    "outputId": "c5cf89c2-c153-4669-ccfa-90be3265f1d6"
   },
   "outputs": [
    {
     "name": "stdout",
     "output_type": "stream",
     "text": [
      "+-------+--------------+-------------+---------+--------+-------+-------+-----------+\n",
      "| UserID|   webClientID|VisitDateTime|ProductID|Activity|Browser|     OS|Signup Date|\n",
      "+-------+--------------+-------------+---------+--------+-------+-------+-----------+\n",
      "|U100364|WI100000401415|   2018-05-14| pr100152|   CLICK| Chrome|WINDOWS| 2017-07-23|\n",
      "|U100364|WI100000401415|   2018-05-14| Pr100152|   CLICK| Chrome|WINDOWS| 2017-07-23|\n",
      "|U100499|  WI1000004168|   2018-05-15| Pr101042|   CLICK| Chrome|WINDOWS| 2017-02-08|\n",
      "|U100499|  WI1000004168|   2018-05-19| Pr101042|   CLICK| Chrome|WINDOWS| 2017-02-08|\n",
      "|U100499|  WI1000004168|   2018-05-15|     null|   CLICK| Chrome|WINDOWS| 2017-02-08|\n",
      "|U100499|  WI1000004168|         null|     null|   CLICK| Chrome|WINDOWS| 2017-02-08|\n",
      "|U100499|  WI1000004168|   2018-05-23| pr101042|   CLICK| Chrome|WINDOWS| 2017-02-08|\n",
      "|U100499|  WI1000004168|   2018-05-21| Pr101042|   CLICK| Chrome|WINDOWS| 2017-02-08|\n",
      "|U100499|  WI1000004168|         null| pr101042|   CLICK| Chrome|WINDOWS| 2017-02-08|\n",
      "|U100499|  WI1000004168|   2018-05-22|     null|   CLICK| Chrome|WINDOWS| 2017-02-08|\n",
      "|U100499|  WI1000004168|   2018-05-27| Pr101042|   CLICK| Chrome|WINDOWS| 2017-02-08|\n",
      "|U100499|  WI1000004168|         null|     null|   CLICK| Chrome|WINDOWS| 2017-02-08|\n",
      "|U100499|  WI1000004168|   2018-05-23| pr101042|   CLICK| Chrome|WINDOWS| 2017-02-08|\n",
      "|U100499|  WI1000004168|   2018-05-27| pr101042|   CLICK| Chrome|WINDOWS| 2017-02-08|\n",
      "|U100499|  WI1000004168|   2018-05-26|     null|   CLICK| Chrome|WINDOWS| 2017-02-08|\n",
      "|U100499|  WI1000004168|   2018-05-27| pr100051|PAGELOAD| Chrome|WINDOWS| 2017-02-08|\n",
      "|U100499|  WI1000004168|   2018-05-23| Pr101042|   CLICK| Chrome|WINDOWS| 2017-02-08|\n",
      "|U100499|  WI1000004168|   2018-05-15| pr101042|   CLICK| Chrome|WINDOWS| 2017-02-08|\n",
      "|U100499|  WI1000004168|   2018-05-21| Pr101042|   CLICK| Chrome|WINDOWS| 2017-02-08|\n",
      "|U100499|  WI1000004168|   2018-05-25| Pr101367|PAGELOAD| Chrome|WINDOWS| 2017-02-08|\n",
      "+-------+--------------+-------------+---------+--------+-------+-------+-----------+\n",
      "only showing top 20 rows\n",
      "\n"
     ]
    }
   ],
   "source": [
    "# converting OS column values to uppercase\n",
    "\n",
    "join_df = join_df.withColumn('OS', upper(col('OS')))\n",
    "join_df.show()\n"
   ]
  },
  {
   "cell_type": "code",
   "execution_count": 157,
   "metadata": {
    "colab": {
     "base_uri": "https://localhost:8080/"
    },
    "id": "-WUdYnw4E-SK",
    "outputId": "eb89d388-0e51-4df7-b225-8a86a6375f57"
   },
   "outputs": [
    {
     "name": "stdout",
     "output_type": "stream",
     "text": [
      "+-------+--------------+-------------+---------+--------+-------+-------+-----------+\n",
      "| UserID|   webClientID|VisitDateTime|ProductID|Activity|Browser|     OS|Signup Date|\n",
      "+-------+--------------+-------------+---------+--------+-------+-------+-----------+\n",
      "|U100364|WI100000401415|   2018-05-14| PR100152|   CLICK| Chrome|WINDOWS| 2017-07-23|\n",
      "|U100364|WI100000401415|   2018-05-14| PR100152|   CLICK| Chrome|WINDOWS| 2017-07-23|\n",
      "|U100499|  WI1000004168|   2018-05-15| PR101042|   CLICK| Chrome|WINDOWS| 2017-02-08|\n",
      "|U100499|  WI1000004168|   2018-05-19| PR101042|   CLICK| Chrome|WINDOWS| 2017-02-08|\n",
      "|U100499|  WI1000004168|   2018-05-15|     null|   CLICK| Chrome|WINDOWS| 2017-02-08|\n",
      "|U100499|  WI1000004168|         null|     null|   CLICK| Chrome|WINDOWS| 2017-02-08|\n",
      "|U100499|  WI1000004168|   2018-05-23| PR101042|   CLICK| Chrome|WINDOWS| 2017-02-08|\n",
      "|U100499|  WI1000004168|   2018-05-21| PR101042|   CLICK| Chrome|WINDOWS| 2017-02-08|\n",
      "|U100499|  WI1000004168|         null| PR101042|   CLICK| Chrome|WINDOWS| 2017-02-08|\n",
      "|U100499|  WI1000004168|   2018-05-22|     null|   CLICK| Chrome|WINDOWS| 2017-02-08|\n",
      "|U100499|  WI1000004168|   2018-05-27| PR101042|   CLICK| Chrome|WINDOWS| 2017-02-08|\n",
      "|U100499|  WI1000004168|         null|     null|   CLICK| Chrome|WINDOWS| 2017-02-08|\n",
      "|U100499|  WI1000004168|   2018-05-23| PR101042|   CLICK| Chrome|WINDOWS| 2017-02-08|\n",
      "|U100499|  WI1000004168|   2018-05-27| PR101042|   CLICK| Chrome|WINDOWS| 2017-02-08|\n",
      "|U100499|  WI1000004168|   2018-05-26|     null|   CLICK| Chrome|WINDOWS| 2017-02-08|\n",
      "|U100499|  WI1000004168|   2018-05-27| PR100051|PAGELOAD| Chrome|WINDOWS| 2017-02-08|\n",
      "|U100499|  WI1000004168|   2018-05-23| PR101042|   CLICK| Chrome|WINDOWS| 2017-02-08|\n",
      "|U100499|  WI1000004168|   2018-05-15| PR101042|   CLICK| Chrome|WINDOWS| 2017-02-08|\n",
      "|U100499|  WI1000004168|   2018-05-21| PR101042|   CLICK| Chrome|WINDOWS| 2017-02-08|\n",
      "|U100499|  WI1000004168|   2018-05-25| PR101367|PAGELOAD| Chrome|WINDOWS| 2017-02-08|\n",
      "+-------+--------------+-------------+---------+--------+-------+-------+-----------+\n",
      "only showing top 20 rows\n",
      "\n"
     ]
    }
   ],
   "source": [
    "# converting ProductID column values to uppercase\n",
    "\n",
    "join_df = join_df.withColumn('ProductID', upper(col('ProductID')))\n",
    "join_df.show()"
   ]
  },
  {
   "cell_type": "code",
   "execution_count": 158,
   "metadata": {
    "colab": {
     "base_uri": "https://localhost:8080/"
    },
    "id": "baW9sg0oh499",
    "outputId": "eda154f5-7f3e-4481-ceba-e90b62dd6c48"
   },
   "outputs": [
    {
     "name": "stdout",
     "output_type": "stream",
     "text": [
      "+-------+-------------+\n",
      "| UserID|ProductID_New|\n",
      "+-------+-------------+\n",
      "|U100364|     PR100152|\n",
      "|U100499|     PR101042|\n",
      "|U100608|     PR100283|\n",
      "|U100611|     PR100152|\n",
      "|U100754|     PR101062|\n",
      "|U100999|     PR100017|\n",
      "|U102315|     PR100027|\n",
      "|U103221|     PR100483|\n",
      "|U103279|     PR100017|\n",
      "|U103647|     PR100390|\n",
      "|U103859|     PR100252|\n",
      "|U103874|     PR101042|\n",
      "|U103924|     PR100945|\n",
      "|U104238|     PR101042|\n",
      "|U104440|     PR100055|\n",
      "|U104625|     PR101744|\n",
      "|U104644|     PR100771|\n",
      "|U104722|     PR100166|\n",
      "|U105187|     PR100220|\n",
      "|U105380|     PR101800|\n",
      "+-------+-------------+\n",
      "only showing top 20 rows\n",
      "\n"
     ]
    }
   ],
   "source": [
    "# ProductID null value imputation\n",
    "\n",
    "product_counts = join_df.groupBy(['UserID', 'ProductID']).agg(count(when(col('ProductID').isNotNull(), col('ProductID') ).otherwise(None)).alias('count'))\n",
    "\n",
    "win = Window().partitionBy('UserID').orderBy(col('count').desc())\n",
    "result = (product_counts\n",
    "          .withColumn('row_num', row_number().over(win))\n",
    "          .where(col('row_num') == 1)\n",
    "          .select('UserID', 'ProductID')\n",
    "         )\n",
    "result = result.withColumnRenamed('ProductID','ProductID_New')\n",
    "result.show()"
   ]
  },
  {
   "cell_type": "code",
   "execution_count": 159,
   "metadata": {
    "colab": {
     "base_uri": "https://localhost:8080/"
    },
    "id": "-zWRlneAh52w",
    "outputId": "92712136-aed7-4a0c-c9f8-a1e461cf535d"
   },
   "outputs": [
    {
     "name": "stdout",
     "output_type": "stream",
     "text": [
      "+-------+--------------+-------------+---------+--------+-------+-------+-----------+-------------+\n",
      "| UserID|   webClientID|VisitDateTime|ProductID|Activity|Browser|     OS|Signup Date|ProductID_New|\n",
      "+-------+--------------+-------------+---------+--------+-------+-------+-----------+-------------+\n",
      "|U100364|WI100000401415|   2018-05-14| PR100152|   CLICK| Chrome|WINDOWS| 2017-07-23|     PR100152|\n",
      "|U100364|WI100000401415|   2018-05-14| PR100152|   CLICK| Chrome|WINDOWS| 2017-07-23|     PR100152|\n",
      "|U100499|  WI1000004168|   2018-05-15| PR101042|   CLICK| Chrome|WINDOWS| 2017-02-08|     PR101042|\n",
      "|U100499|  WI1000004168|   2018-05-19| PR101042|   CLICK| Chrome|WINDOWS| 2017-02-08|     PR101042|\n",
      "|U100499|  WI1000004168|   2018-05-15|     null|   CLICK| Chrome|WINDOWS| 2017-02-08|     PR101042|\n",
      "|U100499|  WI1000004168|         null|     null|   CLICK| Chrome|WINDOWS| 2017-02-08|     PR101042|\n",
      "|U100499|  WI1000004168|   2018-05-23| PR101042|   CLICK| Chrome|WINDOWS| 2017-02-08|     PR101042|\n",
      "|U100499|  WI1000004168|   2018-05-21| PR101042|   CLICK| Chrome|WINDOWS| 2017-02-08|     PR101042|\n",
      "|U100499|  WI1000004168|         null| PR101042|   CLICK| Chrome|WINDOWS| 2017-02-08|     PR101042|\n",
      "|U100499|  WI1000004168|   2018-05-22|     null|   CLICK| Chrome|WINDOWS| 2017-02-08|     PR101042|\n",
      "|U100499|  WI1000004168|   2018-05-27| PR101042|   CLICK| Chrome|WINDOWS| 2017-02-08|     PR101042|\n",
      "|U100499|  WI1000004168|         null|     null|   CLICK| Chrome|WINDOWS| 2017-02-08|     PR101042|\n",
      "|U100499|  WI1000004168|   2018-05-23| PR101042|   CLICK| Chrome|WINDOWS| 2017-02-08|     PR101042|\n",
      "|U100499|  WI1000004168|   2018-05-27| PR101042|   CLICK| Chrome|WINDOWS| 2017-02-08|     PR101042|\n",
      "|U100499|  WI1000004168|   2018-05-26|     null|   CLICK| Chrome|WINDOWS| 2017-02-08|     PR101042|\n",
      "|U100499|  WI1000004168|   2018-05-27| PR100051|PAGELOAD| Chrome|WINDOWS| 2017-02-08|     PR101042|\n",
      "|U100499|  WI1000004168|   2018-05-23| PR101042|   CLICK| Chrome|WINDOWS| 2017-02-08|     PR101042|\n",
      "|U100499|  WI1000004168|   2018-05-15| PR101042|   CLICK| Chrome|WINDOWS| 2017-02-08|     PR101042|\n",
      "|U100499|  WI1000004168|   2018-05-21| PR101042|   CLICK| Chrome|WINDOWS| 2017-02-08|     PR101042|\n",
      "|U100499|  WI1000004168|   2018-05-25| PR101367|PAGELOAD| Chrome|WINDOWS| 2017-02-08|     PR101042|\n",
      "+-------+--------------+-------------+---------+--------+-------+-------+-----------+-------------+\n",
      "only showing top 20 rows\n",
      "\n"
     ]
    }
   ],
   "source": [
    "join_df = join_df.join(result,['UserID'],'inner')\n",
    "join_df.show()"
   ]
  },
  {
   "cell_type": "code",
   "execution_count": 160,
   "metadata": {
    "colab": {
     "base_uri": "https://localhost:8080/"
    },
    "id": "NxXIrJfijVM9",
    "outputId": "7ddbcba7-7ce0-41ff-e78c-a77ec14ed666"
   },
   "outputs": [
    {
     "name": "stdout",
     "output_type": "stream",
     "text": [
      "+-------+--------------+-------------+---------+--------+-------+-------+-----------+\n",
      "| UserID|   webClientID|VisitDateTime|ProductID|Activity|Browser|     OS|Signup Date|\n",
      "+-------+--------------+-------------+---------+--------+-------+-------+-----------+\n",
      "|U100364|WI100000401415|   2018-05-14| PR100152|   CLICK| Chrome|WINDOWS| 2017-07-23|\n",
      "|U100364|WI100000401415|   2018-05-14| PR100152|   CLICK| Chrome|WINDOWS| 2017-07-23|\n",
      "|U100499|  WI1000004168|   2018-05-15| PR101042|   CLICK| Chrome|WINDOWS| 2017-02-08|\n",
      "|U100499|  WI1000004168|   2018-05-19| PR101042|   CLICK| Chrome|WINDOWS| 2017-02-08|\n",
      "|U100499|  WI1000004168|   2018-05-15| PR101042|   CLICK| Chrome|WINDOWS| 2017-02-08|\n",
      "|U100499|  WI1000004168|         null| PR101042|   CLICK| Chrome|WINDOWS| 2017-02-08|\n",
      "|U100499|  WI1000004168|   2018-05-23| PR101042|   CLICK| Chrome|WINDOWS| 2017-02-08|\n",
      "|U100499|  WI1000004168|   2018-05-21| PR101042|   CLICK| Chrome|WINDOWS| 2017-02-08|\n",
      "|U100499|  WI1000004168|         null| PR101042|   CLICK| Chrome|WINDOWS| 2017-02-08|\n",
      "|U100499|  WI1000004168|   2018-05-22| PR101042|   CLICK| Chrome|WINDOWS| 2017-02-08|\n",
      "|U100499|  WI1000004168|   2018-05-27| PR101042|   CLICK| Chrome|WINDOWS| 2017-02-08|\n",
      "|U100499|  WI1000004168|         null| PR101042|   CLICK| Chrome|WINDOWS| 2017-02-08|\n",
      "|U100499|  WI1000004168|   2018-05-23| PR101042|   CLICK| Chrome|WINDOWS| 2017-02-08|\n",
      "|U100499|  WI1000004168|   2018-05-27| PR101042|   CLICK| Chrome|WINDOWS| 2017-02-08|\n",
      "|U100499|  WI1000004168|   2018-05-26| PR101042|   CLICK| Chrome|WINDOWS| 2017-02-08|\n",
      "|U100499|  WI1000004168|   2018-05-27| PR100051|PAGELOAD| Chrome|WINDOWS| 2017-02-08|\n",
      "|U100499|  WI1000004168|   2018-05-23| PR101042|   CLICK| Chrome|WINDOWS| 2017-02-08|\n",
      "|U100499|  WI1000004168|   2018-05-15| PR101042|   CLICK| Chrome|WINDOWS| 2017-02-08|\n",
      "|U100499|  WI1000004168|   2018-05-21| PR101042|   CLICK| Chrome|WINDOWS| 2017-02-08|\n",
      "|U100499|  WI1000004168|   2018-05-25| PR101367|PAGELOAD| Chrome|WINDOWS| 2017-02-08|\n",
      "+-------+--------------+-------------+---------+--------+-------+-------+-----------+\n",
      "only showing top 20 rows\n",
      "\n"
     ]
    }
   ],
   "source": [
    "# replacing null value in Activity column with the most frequent Activity based on UserID\n",
    "\n",
    "join_df = join_df.withColumn('ProductID',when(col('ProductID').isNull(), col('ProductID_New')).otherwise(col('ProductID')))\n",
    "join_df = join_df.drop('ProductID_New')\n",
    "join_df.show()"
   ]
  },
  {
   "cell_type": "code",
   "execution_count": 161,
   "metadata": {
    "colab": {
     "base_uri": "https://localhost:8080/"
    },
    "id": "MECQDq4YLO1Y",
    "outputId": "704ba6c6-f40a-4e40-cc70-60198f1db6cd"
   },
   "outputs": [
    {
     "name": "stdout",
     "output_type": "stream",
     "text": [
      "root\n",
      " |-- UserID: string (nullable = true)\n",
      " |-- webClientID: string (nullable = true)\n",
      " |-- VisitDateTime: date (nullable = true)\n",
      " |-- ProductID: string (nullable = true)\n",
      " |-- Activity: string (nullable = true)\n",
      " |-- Browser: string (nullable = true)\n",
      " |-- OS: string (nullable = true)\n",
      " |-- Signup Date: date (nullable = true)\n",
      "\n"
     ]
    }
   ],
   "source": [
    "join_df.printSchema()"
   ]
  },
  {
   "cell_type": "code",
   "execution_count": 162,
   "metadata": {
    "colab": {
     "base_uri": "https://localhost:8080/"
    },
    "id": "2Rp_N9oPKKBb",
    "outputId": "6813bb0b-f4ff-4c3b-9864-aab3c2dca946"
   },
   "outputs": [
    {
     "data": {
      "text/plain": [
       "datetime.date(2018, 5, 28)"
      ]
     },
     "execution_count": 162,
     "metadata": {
      "tags": []
     },
     "output_type": "execute_result"
    }
   ],
   "source": [
    "# setting target date as 28-05-2018\n",
    "\n",
    "import datetime as dt\n",
    "\n",
    "target_date = dt.date(2018,5,28)\n",
    "target_date\n"
   ]
  },
  {
   "cell_type": "code",
   "execution_count": 163,
   "metadata": {
    "colab": {
     "base_uri": "https://localhost:8080/"
    },
    "id": "BTbmBKgJO_NW",
    "outputId": "1dbb615f-8c63-460c-d161-6577e9188c06"
   },
   "outputs": [
    {
     "name": "stdout",
     "output_type": "stream",
     "text": [
      "+-------+--------------+-------------+---------+--------+-------+-------+-----------+--------+\n",
      "| UserID|   webClientID|VisitDateTime|ProductID|Activity|Browser|     OS|Signup Date|Duration|\n",
      "+-------+--------------+-------------+---------+--------+-------+-------+-----------+--------+\n",
      "|U100364|WI100000401415|   2018-05-14| PR100152|   CLICK| Chrome|WINDOWS| 2017-07-23|      14|\n",
      "|U100364|WI100000401415|   2018-05-14| PR100152|   CLICK| Chrome|WINDOWS| 2017-07-23|      14|\n",
      "|U100499|  WI1000004168|   2018-05-15| PR101042|   CLICK| Chrome|WINDOWS| 2017-02-08|      13|\n",
      "|U100499|  WI1000004168|   2018-05-19| PR101042|   CLICK| Chrome|WINDOWS| 2017-02-08|       9|\n",
      "|U100499|  WI1000004168|   2018-05-15| PR101042|   CLICK| Chrome|WINDOWS| 2017-02-08|      13|\n",
      "|U100499|  WI1000004168|         null| PR101042|   CLICK| Chrome|WINDOWS| 2017-02-08|    null|\n",
      "|U100499|  WI1000004168|   2018-05-23| PR101042|   CLICK| Chrome|WINDOWS| 2017-02-08|       5|\n",
      "|U100499|  WI1000004168|   2018-05-21| PR101042|   CLICK| Chrome|WINDOWS| 2017-02-08|       7|\n",
      "|U100499|  WI1000004168|         null| PR101042|   CLICK| Chrome|WINDOWS| 2017-02-08|    null|\n",
      "|U100499|  WI1000004168|   2018-05-22| PR101042|   CLICK| Chrome|WINDOWS| 2017-02-08|       6|\n",
      "|U100499|  WI1000004168|   2018-05-27| PR101042|   CLICK| Chrome|WINDOWS| 2017-02-08|       1|\n",
      "|U100499|  WI1000004168|         null| PR101042|   CLICK| Chrome|WINDOWS| 2017-02-08|    null|\n",
      "|U100499|  WI1000004168|   2018-05-23| PR101042|   CLICK| Chrome|WINDOWS| 2017-02-08|       5|\n",
      "|U100499|  WI1000004168|   2018-05-27| PR101042|   CLICK| Chrome|WINDOWS| 2017-02-08|       1|\n",
      "|U100499|  WI1000004168|   2018-05-26| PR101042|   CLICK| Chrome|WINDOWS| 2017-02-08|       2|\n",
      "|U100499|  WI1000004168|   2018-05-27| PR100051|PAGELOAD| Chrome|WINDOWS| 2017-02-08|       1|\n",
      "|U100499|  WI1000004168|   2018-05-23| PR101042|   CLICK| Chrome|WINDOWS| 2017-02-08|       5|\n",
      "|U100499|  WI1000004168|   2018-05-15| PR101042|   CLICK| Chrome|WINDOWS| 2017-02-08|      13|\n",
      "|U100499|  WI1000004168|   2018-05-21| PR101042|   CLICK| Chrome|WINDOWS| 2017-02-08|       7|\n",
      "|U100499|  WI1000004168|   2018-05-25| PR101367|PAGELOAD| Chrome|WINDOWS| 2017-02-08|       3|\n",
      "+-------+--------------+-------------+---------+--------+-------+-------+-----------+--------+\n",
      "only showing top 20 rows\n",
      "\n"
     ]
    }
   ],
   "source": [
    "# computing the receny of visit of user w.r.t VisitDateTime \n",
    "\n",
    "join_df = join_df.withColumn('Duration', datediff(lit(target_date), 'VisitDateTime'))\n",
    "join_df.show()\n"
   ]
  },
  {
   "cell_type": "code",
   "execution_count": 164,
   "metadata": {
    "colab": {
     "base_uri": "https://localhost:8080/"
    },
    "id": "OSSca553Kwqv",
    "outputId": "589e1e2f-39b2-4737-f31a-eceeb6d047f5"
   },
   "outputs": [
    {
     "name": "stdout",
     "output_type": "stream",
     "text": [
      "+------------------+\n",
      "|              mean|\n",
      "+------------------+\n",
      "|11.081948550244755|\n",
      "+------------------+\n",
      "\n"
     ]
    }
   ],
   "source": [
    "join_df.select(mean('Duration').alias('mean')).show()"
   ]
  },
  {
   "cell_type": "code",
   "execution_count": 165,
   "metadata": {
    "colab": {
     "base_uri": "https://localhost:8080/"
    },
    "id": "jEOt0SfQO482",
    "outputId": "847c632f-3667-4c00-a13d-c28dca925eff"
   },
   "outputs": [
    {
     "name": "stdout",
     "output_type": "stream",
     "text": [
      "+-------+------------+\n",
      "| UserID|Duration_New|\n",
      "+-------+------------+\n",
      "|U100364|          14|\n",
      "|U100499|           1|\n",
      "|U100608|           7|\n",
      "|U100611|          16|\n",
      "|U100754|          12|\n",
      "|U100999|           2|\n",
      "|U102315|           6|\n",
      "|U103221|           8|\n",
      "|U103279|        null|\n",
      "|U103647|           5|\n",
      "|U103859|           2|\n",
      "|U103874|           1|\n",
      "|U103924|           7|\n",
      "|U104238|           2|\n",
      "|U104440|           1|\n",
      "|U104625|           6|\n",
      "|U104644|           1|\n",
      "|U104722|          18|\n",
      "|U105187|           1|\n",
      "|U105380|           1|\n",
      "+-------+------------+\n",
      "only showing top 20 rows\n",
      "\n"
     ]
    }
   ],
   "source": [
    "# Duration null value imputation\n",
    "\n",
    "duration_counts = join_df.groupBy(['UserID', 'Duration']).agg(count(when(col('Duration').isNotNull(), col('Duration') ).otherwise(None)).alias('count'))\n",
    "\n",
    "win = Window().partitionBy('UserID').orderBy(col('count').desc())\n",
    "result = (duration_counts\n",
    "          .withColumn('row_num', row_number().over(win))\n",
    "          .where(col('row_num') == 1)\n",
    "          .select('UserID', 'Duration')\n",
    "         )\n",
    "result = result.withColumnRenamed('Duration','Duration_New')\n",
    "result.show()"
   ]
  },
  {
   "cell_type": "code",
   "execution_count": 166,
   "metadata": {
    "colab": {
     "base_uri": "https://localhost:8080/"
    },
    "id": "5plU_0iBkSQP",
    "outputId": "e7249354-715f-460f-b9ed-3e3162ba6728"
   },
   "outputs": [
    {
     "name": "stdout",
     "output_type": "stream",
     "text": [
      "+-------+--------------+-------------+---------+--------+-------+-------+-----------+--------+------------+\n",
      "| UserID|   webClientID|VisitDateTime|ProductID|Activity|Browser|     OS|Signup Date|Duration|Duration_New|\n",
      "+-------+--------------+-------------+---------+--------+-------+-------+-----------+--------+------------+\n",
      "|U100364|WI100000401415|   2018-05-14| PR100152|   CLICK| Chrome|WINDOWS| 2017-07-23|      14|          14|\n",
      "|U100364|WI100000401415|   2018-05-14| PR100152|   CLICK| Chrome|WINDOWS| 2017-07-23|      14|          14|\n",
      "|U100499|  WI1000004168|   2018-05-15| PR101042|   CLICK| Chrome|WINDOWS| 2017-02-08|      13|           1|\n",
      "|U100499|  WI1000004168|   2018-05-19| PR101042|   CLICK| Chrome|WINDOWS| 2017-02-08|       9|           1|\n",
      "|U100499|  WI1000004168|   2018-05-15| PR101042|   CLICK| Chrome|WINDOWS| 2017-02-08|      13|           1|\n",
      "|U100499|  WI1000004168|         null| PR101042|   CLICK| Chrome|WINDOWS| 2017-02-08|    null|           1|\n",
      "|U100499|  WI1000004168|   2018-05-23| PR101042|   CLICK| Chrome|WINDOWS| 2017-02-08|       5|           1|\n",
      "|U100499|  WI1000004168|   2018-05-21| PR101042|   CLICK| Chrome|WINDOWS| 2017-02-08|       7|           1|\n",
      "|U100499|  WI1000004168|         null| PR101042|   CLICK| Chrome|WINDOWS| 2017-02-08|    null|           1|\n",
      "|U100499|  WI1000004168|   2018-05-22| PR101042|   CLICK| Chrome|WINDOWS| 2017-02-08|       6|           1|\n",
      "|U100499|  WI1000004168|   2018-05-27| PR101042|   CLICK| Chrome|WINDOWS| 2017-02-08|       1|           1|\n",
      "|U100499|  WI1000004168|         null| PR101042|   CLICK| Chrome|WINDOWS| 2017-02-08|    null|           1|\n",
      "|U100499|  WI1000004168|   2018-05-23| PR101042|   CLICK| Chrome|WINDOWS| 2017-02-08|       5|           1|\n",
      "|U100499|  WI1000004168|   2018-05-27| PR101042|   CLICK| Chrome|WINDOWS| 2017-02-08|       1|           1|\n",
      "|U100499|  WI1000004168|   2018-05-26| PR101042|   CLICK| Chrome|WINDOWS| 2017-02-08|       2|           1|\n",
      "|U100499|  WI1000004168|   2018-05-27| PR100051|PAGELOAD| Chrome|WINDOWS| 2017-02-08|       1|           1|\n",
      "|U100499|  WI1000004168|   2018-05-23| PR101042|   CLICK| Chrome|WINDOWS| 2017-02-08|       5|           1|\n",
      "|U100499|  WI1000004168|   2018-05-15| PR101042|   CLICK| Chrome|WINDOWS| 2017-02-08|      13|           1|\n",
      "|U100499|  WI1000004168|   2018-05-21| PR101042|   CLICK| Chrome|WINDOWS| 2017-02-08|       7|           1|\n",
      "|U100499|  WI1000004168|   2018-05-25| PR101367|PAGELOAD| Chrome|WINDOWS| 2017-02-08|       3|           1|\n",
      "+-------+--------------+-------------+---------+--------+-------+-------+-----------+--------+------------+\n",
      "only showing top 20 rows\n",
      "\n"
     ]
    }
   ],
   "source": [
    "join_df = join_df.join(result,['UserID'],'inner')\n",
    "join_df.show()"
   ]
  },
  {
   "cell_type": "code",
   "execution_count": 167,
   "metadata": {
    "colab": {
     "base_uri": "https://localhost:8080/"
    },
    "id": "qO4WSA__kSjM",
    "outputId": "48e4b9ff-bbee-454d-ec8c-6a5151f91079"
   },
   "outputs": [
    {
     "name": "stdout",
     "output_type": "stream",
     "text": [
      "+-------+--------------+-------------+---------+--------+-------+-------+-----------+--------+\n",
      "| UserID|   webClientID|VisitDateTime|ProductID|Activity|Browser|     OS|Signup Date|Duration|\n",
      "+-------+--------------+-------------+---------+--------+-------+-------+-----------+--------+\n",
      "|U100364|WI100000401415|   2018-05-14| PR100152|   CLICK| Chrome|WINDOWS| 2017-07-23|      14|\n",
      "|U100364|WI100000401415|   2018-05-14| PR100152|   CLICK| Chrome|WINDOWS| 2017-07-23|      14|\n",
      "|U100499|  WI1000004168|   2018-05-15| PR101042|   CLICK| Chrome|WINDOWS| 2017-02-08|      13|\n",
      "|U100499|  WI1000004168|   2018-05-19| PR101042|   CLICK| Chrome|WINDOWS| 2017-02-08|       9|\n",
      "|U100499|  WI1000004168|   2018-05-15| PR101042|   CLICK| Chrome|WINDOWS| 2017-02-08|      13|\n",
      "|U100499|  WI1000004168|         null| PR101042|   CLICK| Chrome|WINDOWS| 2017-02-08|       1|\n",
      "|U100499|  WI1000004168|   2018-05-23| PR101042|   CLICK| Chrome|WINDOWS| 2017-02-08|       5|\n",
      "|U100499|  WI1000004168|   2018-05-21| PR101042|   CLICK| Chrome|WINDOWS| 2017-02-08|       7|\n",
      "|U100499|  WI1000004168|         null| PR101042|   CLICK| Chrome|WINDOWS| 2017-02-08|       1|\n",
      "|U100499|  WI1000004168|   2018-05-22| PR101042|   CLICK| Chrome|WINDOWS| 2017-02-08|       6|\n",
      "|U100499|  WI1000004168|   2018-05-27| PR101042|   CLICK| Chrome|WINDOWS| 2017-02-08|       1|\n",
      "|U100499|  WI1000004168|         null| PR101042|   CLICK| Chrome|WINDOWS| 2017-02-08|       1|\n",
      "|U100499|  WI1000004168|   2018-05-23| PR101042|   CLICK| Chrome|WINDOWS| 2017-02-08|       5|\n",
      "|U100499|  WI1000004168|   2018-05-27| PR101042|   CLICK| Chrome|WINDOWS| 2017-02-08|       1|\n",
      "|U100499|  WI1000004168|   2018-05-26| PR101042|   CLICK| Chrome|WINDOWS| 2017-02-08|       2|\n",
      "|U100499|  WI1000004168|   2018-05-27| PR100051|PAGELOAD| Chrome|WINDOWS| 2017-02-08|       1|\n",
      "|U100499|  WI1000004168|   2018-05-23| PR101042|   CLICK| Chrome|WINDOWS| 2017-02-08|       5|\n",
      "|U100499|  WI1000004168|   2018-05-15| PR101042|   CLICK| Chrome|WINDOWS| 2017-02-08|      13|\n",
      "|U100499|  WI1000004168|   2018-05-21| PR101042|   CLICK| Chrome|WINDOWS| 2017-02-08|       7|\n",
      "|U100499|  WI1000004168|   2018-05-25| PR101367|PAGELOAD| Chrome|WINDOWS| 2017-02-08|       3|\n",
      "+-------+--------------+-------------+---------+--------+-------+-------+-----------+--------+\n",
      "only showing top 20 rows\n",
      "\n"
     ]
    }
   ],
   "source": [
    "# replacing null value in Duration column with the most frequent Duration based on UserID\n",
    "\n",
    "join_df = join_df.withColumn('Duration',when(col('Duration').isNull(), col('Duration_New')).otherwise(col('Duration')))\n",
    "join_df = join_df.drop('Duration_New')\n",
    "join_df.show()"
   ]
  },
  {
   "cell_type": "code",
   "execution_count": 168,
   "metadata": {
    "colab": {
     "base_uri": "https://localhost:8080/"
    },
    "id": "1Dop5KmTkqh7",
    "outputId": "bb28c6f2-2b8c-4534-e81f-6be37af3d6a6"
   },
   "outputs": [
    {
     "name": "stdout",
     "output_type": "stream",
     "text": [
      "+-------+---------+--------+-------+-------+-----------+--------+\n",
      "| UserID|ProductID|Activity|Browser|     OS|Signup Date|Duration|\n",
      "+-------+---------+--------+-------+-------+-----------+--------+\n",
      "|U100364| PR100152|   CLICK| Chrome|WINDOWS| 2017-07-23|      14|\n",
      "|U100364| PR100152|   CLICK| Chrome|WINDOWS| 2017-07-23|      14|\n",
      "|U100499| PR101042|   CLICK| Chrome|WINDOWS| 2017-02-08|      13|\n",
      "|U100499| PR101042|   CLICK| Chrome|WINDOWS| 2017-02-08|       9|\n",
      "|U100499| PR101042|   CLICK| Chrome|WINDOWS| 2017-02-08|      13|\n",
      "|U100499| PR101042|   CLICK| Chrome|WINDOWS| 2017-02-08|       1|\n",
      "|U100499| PR101042|   CLICK| Chrome|WINDOWS| 2017-02-08|       5|\n",
      "|U100499| PR101042|   CLICK| Chrome|WINDOWS| 2017-02-08|       7|\n",
      "|U100499| PR101042|   CLICK| Chrome|WINDOWS| 2017-02-08|       1|\n",
      "|U100499| PR101042|   CLICK| Chrome|WINDOWS| 2017-02-08|       6|\n",
      "|U100499| PR101042|   CLICK| Chrome|WINDOWS| 2017-02-08|       1|\n",
      "|U100499| PR101042|   CLICK| Chrome|WINDOWS| 2017-02-08|       1|\n",
      "|U100499| PR101042|   CLICK| Chrome|WINDOWS| 2017-02-08|       5|\n",
      "|U100499| PR101042|   CLICK| Chrome|WINDOWS| 2017-02-08|       1|\n",
      "|U100499| PR101042|   CLICK| Chrome|WINDOWS| 2017-02-08|       2|\n",
      "|U100499| PR100051|PAGELOAD| Chrome|WINDOWS| 2017-02-08|       1|\n",
      "|U100499| PR101042|   CLICK| Chrome|WINDOWS| 2017-02-08|       5|\n",
      "|U100499| PR101042|   CLICK| Chrome|WINDOWS| 2017-02-08|      13|\n",
      "|U100499| PR101042|   CLICK| Chrome|WINDOWS| 2017-02-08|       7|\n",
      "|U100499| PR101367|PAGELOAD| Chrome|WINDOWS| 2017-02-08|       3|\n",
      "+-------+---------+--------+-------+-------+-----------+--------+\n",
      "only showing top 20 rows\n",
      "\n"
     ]
    }
   ],
   "source": [
    "# dropping irrelevant columns \n",
    "\n",
    "join_df = join_df.drop('webClientID','VisitDateTime')\n",
    "join_df.show()"
   ]
  },
  {
   "cell_type": "code",
   "execution_count": 169,
   "metadata": {
    "colab": {
     "base_uri": "https://localhost:8080/"
    },
    "id": "m3VTKm8slEDn",
    "outputId": "13ebe54e-42a5-49ba-fa07-bd3b7fe44951"
   },
   "outputs": [
    {
     "name": "stdout",
     "output_type": "stream",
     "text": [
      "+------+---------+--------+-------+---+-----------+--------+\n",
      "|UserID|ProductID|Activity|Browser| OS|Signup Date|Duration|\n",
      "+------+---------+--------+-------+---+-----------+--------+\n",
      "|     0|      582|    1146|      0|  0|          0|     805|\n",
      "+------+---------+--------+-------+---+-----------+--------+\n",
      "\n"
     ]
    }
   ],
   "source": [
    "# checking null values after initial imputation\n",
    "\n",
    "join_df.select([count(when(isnull(c), c)).alias(c) for c in join_df.columns]).show()"
   ]
  },
  {
   "cell_type": "code",
   "execution_count": 170,
   "metadata": {
    "colab": {
     "base_uri": "https://localhost:8080/"
    },
    "id": "lK_SXFYiIztG",
    "outputId": "909e1d13-3221-4d3a-9950-a15442644b5d"
   },
   "outputs": [
    {
     "data": {
      "text/plain": [
       "7"
      ]
     },
     "execution_count": 170,
     "metadata": {
      "tags": []
     },
     "output_type": "execute_result"
    }
   ],
   "source": [
    "join_df.filter((join_df.Duration.isNull()) & (join_df.Activity.isNull()) & (join_df.ProductID.isNull())).count()"
   ]
  },
  {
   "cell_type": "code",
   "execution_count": 171,
   "metadata": {
    "colab": {
     "base_uri": "https://localhost:8080/"
    },
    "id": "3WPhT81MMSYN",
    "outputId": "d0cdbf12-dbc4-4427-f0cf-1999320fda6b"
   },
   "outputs": [
    {
     "name": "stdout",
     "output_type": "stream",
     "text": [
      "+-------+---------+--------+-------------+---------+-----------+--------+\n",
      "| UserID|ProductID|Activity|      Browser|       OS|Signup Date|Duration|\n",
      "+-------+---------+--------+-------------+---------+-----------+--------+\n",
      "|U117600| PR102639|    null|       Chrome|  WINDOWS| 2018-04-13|      13|\n",
      "|U121044| PR101471|    null|       Chrome|  WINDOWS| 2016-02-26|       9|\n",
      "|U121044| PR101471|    null|       Chrome|  WINDOWS| 2016-02-26|       9|\n",
      "|U129789| PR100017|    null|       Chrome|  WINDOWS| 2018-03-28|      16|\n",
      "|U123054| PR100736|    null|       Chrome| MAC OS X| 2018-04-05|      10|\n",
      "|U126052| PR100097|    null|Chrome Mobile|  ANDROID| 2016-06-13|      13|\n",
      "|U128080| PR100374|    null|       Chrome|CHROME OS| 2018-03-03|      14|\n",
      "|U128377| PR100739|    null|Chrome Mobile|  ANDROID| 2018-03-08|      14|\n",
      "|U128516| PR101328|    null|Chrome Mobile|  ANDROID| 2017-04-10|    null|\n",
      "|U136829| PR101702|    null|       Chrome|  WINDOWS| 2018-02-05|      21|\n",
      "|U113477| PR100850|    null|Chrome Mobile|  ANDROID| 2017-07-05|    null|\n",
      "|U116708| PR100086|    null|Chrome Mobile|  ANDROID| 2018-03-09|       6|\n",
      "|U119703| PR100017|    null|       Chrome|CHROME OS| 2016-12-24|       7|\n",
      "|U135034| PR100070|    null|Chrome Mobile|  ANDROID| 2018-04-06|      20|\n",
      "|U101503| PR100060|    null|       Chrome|  WINDOWS| 2017-12-24|       1|\n",
      "|U101503| PR100060|    null|       Chrome|  WINDOWS| 2017-12-24|       1|\n",
      "|U122750|     null|    null|Chrome Mobile|  ANDROID| 2017-08-26|    null|\n",
      "|U130212| PR101148|    null|Chrome Mobile|  ANDROID| 2017-11-29|    null|\n",
      "|U107231|     null|    null|       Chrome|  WINDOWS| 2016-10-24|       2|\n",
      "|U108618| PR100014|    null|Chrome Mobile|  ANDROID| 2017-10-01|       2|\n",
      "+-------+---------+--------+-------------+---------+-----------+--------+\n",
      "only showing top 20 rows\n",
      "\n"
     ]
    }
   ],
   "source": [
    "join_df.filter((join_df.Activity.isNull()) ).show()"
   ]
  },
  {
   "cell_type": "code",
   "execution_count": 172,
   "metadata": {
    "colab": {
     "base_uri": "https://localhost:8080/"
    },
    "id": "4_DdrGTVQBe1",
    "outputId": "400e5516-2991-44fd-e3e5-23b2fc8301ba"
   },
   "outputs": [
    {
     "name": "stdout",
     "output_type": "stream",
     "text": [
      "+-------+---------+--------+-----------------+-------+-----------+--------+\n",
      "| UserID|ProductID|Activity|          Browser|     OS|Signup Date|Duration|\n",
      "+-------+---------+--------+-----------------+-------+-----------+--------+\n",
      "|U134897|     null|PAGELOAD|           Chrome|WINDOWS| 2018-03-13|      20|\n",
      "|U136638|     null|PAGELOAD|    Chrome Mobile|ANDROID| 2017-06-16|      21|\n",
      "|U118337|     null|PAGELOAD|Chrome Mobile iOS|    IOS| 2018-03-18|       7|\n",
      "|U128980|     null|   CLICK|           Chrome|WINDOWS| 2018-02-13|      15|\n",
      "|U113880|     null|PAGELOAD|    Chrome Mobile|ANDROID| 2017-05-27|       5|\n",
      "|U132712|     null|PAGELOAD|    Chrome Mobile|ANDROID| 2013-10-03|      18|\n",
      "|U122750|     null|    null|    Chrome Mobile|ANDROID| 2017-08-26|    null|\n",
      "|U102612|     null|PAGELOAD|           Chrome|WINDOWS| 2018-03-01|       9|\n",
      "|U108677|     null|PAGELOAD|    Chrome Mobile|ANDROID| 2017-12-04|       3|\n",
      "|U121936|     null|PAGELOAD|    Chrome Mobile|ANDROID| 2018-04-12|       9|\n",
      "|U128451|     null|PAGELOAD|    Chrome Mobile|ANDROID| 2018-03-31|      15|\n",
      "|U128451|     null|PAGELOAD|    Chrome Mobile|ANDROID| 2018-03-31|      15|\n",
      "|U130077|     null|PAGELOAD|    Chrome Mobile|ANDROID| 2017-09-21|      16|\n",
      "|U131518|     null|PAGELOAD|    Chrome Mobile|ANDROID| 2018-04-09|      17|\n",
      "|U100371|     null|PAGELOAD|    Chrome Mobile|ANDROID| 2018-03-10|       8|\n",
      "|U107231|     null|    null|           Chrome|WINDOWS| 2016-10-24|       2|\n",
      "|U120976|     null|    null|           Chrome|WINDOWS| 2017-12-10|       8|\n",
      "|U123411|     null|    null|    Chrome Mobile|ANDROID| 2018-04-08|      10|\n",
      "|U128794|     null|PAGELOAD|           Chrome|  LINUX| 2013-08-22|      15|\n",
      "|U135589|     null|   CLICK|           Chrome|WINDOWS| 2016-01-06|      21|\n",
      "+-------+---------+--------+-----------------+-------+-----------+--------+\n",
      "only showing top 20 rows\n",
      "\n"
     ]
    }
   ],
   "source": [
    "join_df.filter((join_df.ProductID.isNull()) ).show()"
   ]
  },
  {
   "cell_type": "code",
   "execution_count": 173,
   "metadata": {
    "colab": {
     "base_uri": "https://localhost:8080/"
    },
    "id": "kfvjPw7DPF04",
    "outputId": "2d64faee-c5a3-4fd7-9312-675a2d4553f9"
   },
   "outputs": [
    {
     "name": "stdout",
     "output_type": "stream",
     "text": [
      "+--------+------+\n",
      "|Activity| count|\n",
      "+--------+------+\n",
      "|   CLICK|467757|\n",
      "|PAGELOAD|181792|\n",
      "|    null|  1146|\n",
      "+--------+------+\n",
      "\n"
     ]
    }
   ],
   "source": [
    "join_df.groupBy('Activity').count().orderBy('count', ascending=False).show()\n"
   ]
  },
  {
   "cell_type": "code",
   "execution_count": 174,
   "metadata": {
    "colab": {
     "base_uri": "https://localhost:8080/"
    },
    "id": "VRi-ABP-PL_o",
    "outputId": "d21ed461-f9ac-496f-ed32-ace89876490b"
   },
   "outputs": [
    {
     "name": "stdout",
     "output_type": "stream",
     "text": [
      "+---------+-----+\n",
      "|ProductID|count|\n",
      "+---------+-----+\n",
      "| PR101042|89852|\n",
      "| PR100166|26925|\n",
      "| PR100102|25271|\n",
      "| PR100017|22909|\n",
      "| PR100390|21072|\n",
      "| PR100200|12940|\n",
      "| PR101367| 8952|\n",
      "| PR100051| 8120|\n",
      "| PR100123| 6308|\n",
      "| PR100363| 4892|\n",
      "| PR100072| 4626|\n",
      "| PR100145| 4549|\n",
      "| PR100287| 4104|\n",
      "| PR100070| 3888|\n",
      "| PR100086| 3847|\n",
      "| PR100060| 3389|\n",
      "| PR100036| 3288|\n",
      "| PR100152| 3036|\n",
      "| PR100219| 2940|\n",
      "| PR100003| 2900|\n",
      "+---------+-----+\n",
      "only showing top 20 rows\n",
      "\n"
     ]
    }
   ],
   "source": [
    "join_df.groupBy('ProductID').count().orderBy('count', ascending=False).show()\n"
   ]
  },
  {
   "cell_type": "code",
   "execution_count": 175,
   "metadata": {
    "colab": {
     "base_uri": "https://localhost:8080/"
    },
    "id": "JhrVBf1_RSCs",
    "outputId": "994ec71b-b03f-40d6-f6a1-1f3765f61018"
   },
   "outputs": [
    {
     "name": "stdout",
     "output_type": "stream",
     "text": [
      "+--------+-----+\n",
      "|Duration|count|\n",
      "+--------+-----+\n",
      "|      21|50038|\n",
      "|      20|39071|\n",
      "|       6|38189|\n",
      "|       7|38168|\n",
      "|       5|36468|\n",
      "|       3|35940|\n",
      "|       4|31334|\n",
      "|      14|30347|\n",
      "|      19|30288|\n",
      "|      13|29362|\n",
      "|       2|29324|\n",
      "|      10|29132|\n",
      "|       9|28648|\n",
      "|      18|28264|\n",
      "|      11|27640|\n",
      "|       1|27049|\n",
      "|      12|25429|\n",
      "|       8|25189|\n",
      "|      16|24690|\n",
      "|      17|24370|\n",
      "+--------+-----+\n",
      "only showing top 20 rows\n",
      "\n"
     ]
    }
   ],
   "source": [
    "join_df.groupBy('Duration').count().orderBy('count', ascending=False).show()\n"
   ]
  },
  {
   "cell_type": "code",
   "execution_count": 176,
   "metadata": {
    "colab": {
     "base_uri": "https://localhost:8080/"
    },
    "id": "YB5V9TN1fjs8",
    "outputId": "b4fd8a35-0901-4817-876f-5f0fe90f29b5"
   },
   "outputs": [
    {
     "name": "stdout",
     "output_type": "stream",
     "text": [
      "+------------------+\n",
      "|              mean|\n",
      "+------------------+\n",
      "|11.084862053578298|\n",
      "+------------------+\n",
      "\n"
     ]
    }
   ],
   "source": [
    "join_df.select(mean('Duration').alias('mean')).show()"
   ]
  },
  {
   "cell_type": "code",
   "execution_count": 177,
   "metadata": {
    "colab": {
     "base_uri": "https://localhost:8080/"
    },
    "id": "cgfxcXQVle12",
    "outputId": "77943d78-17cf-4e2f-d50c-205362aa5c9d"
   },
   "outputs": [
    {
     "name": "stdout",
     "output_type": "stream",
     "text": [
      "+-------+---------+--------+-------+-------+-----------+--------+\n",
      "| UserID|ProductID|Activity|Browser|     OS|Signup Date|Duration|\n",
      "+-------+---------+--------+-------+-------+-----------+--------+\n",
      "|U100364| PR100152|   CLICK| Chrome|WINDOWS| 2017-07-23|      14|\n",
      "|U100364| PR100152|   CLICK| Chrome|WINDOWS| 2017-07-23|      14|\n",
      "|U100499| PR101042|   CLICK| Chrome|WINDOWS| 2017-02-08|      13|\n",
      "|U100499| PR101042|   CLICK| Chrome|WINDOWS| 2017-02-08|       9|\n",
      "|U100499| PR101042|   CLICK| Chrome|WINDOWS| 2017-02-08|      13|\n",
      "|U100499| PR101042|   CLICK| Chrome|WINDOWS| 2017-02-08|       1|\n",
      "|U100499| PR101042|   CLICK| Chrome|WINDOWS| 2017-02-08|       5|\n",
      "|U100499| PR101042|   CLICK| Chrome|WINDOWS| 2017-02-08|       7|\n",
      "|U100499| PR101042|   CLICK| Chrome|WINDOWS| 2017-02-08|       1|\n",
      "|U100499| PR101042|   CLICK| Chrome|WINDOWS| 2017-02-08|       6|\n",
      "|U100499| PR101042|   CLICK| Chrome|WINDOWS| 2017-02-08|       1|\n",
      "|U100499| PR101042|   CLICK| Chrome|WINDOWS| 2017-02-08|       1|\n",
      "|U100499| PR101042|   CLICK| Chrome|WINDOWS| 2017-02-08|       5|\n",
      "|U100499| PR101042|   CLICK| Chrome|WINDOWS| 2017-02-08|       1|\n",
      "|U100499| PR101042|   CLICK| Chrome|WINDOWS| 2017-02-08|       2|\n",
      "|U100499| PR100051|PAGELOAD| Chrome|WINDOWS| 2017-02-08|       1|\n",
      "|U100499| PR101042|   CLICK| Chrome|WINDOWS| 2017-02-08|       5|\n",
      "|U100499| PR101042|   CLICK| Chrome|WINDOWS| 2017-02-08|      13|\n",
      "|U100499| PR101042|   CLICK| Chrome|WINDOWS| 2017-02-08|       7|\n",
      "|U100499| PR101367|PAGELOAD| Chrome|WINDOWS| 2017-02-08|       3|\n",
      "+-------+---------+--------+-------+-------+-----------+--------+\n",
      "only showing top 20 rows\n",
      "\n"
     ]
    }
   ],
   "source": [
    "# replacing the remaining null values with necessary values\n",
    "\n",
    "join_df = join_df.fillna({'Activity':'CLICK', 'ProductID':'N/A'})\n",
    "join_df = join_df.withColumn('Duration', when(col('Duration').isNull(),11).otherwise(col('Duration')))\n",
    "join_df.show()"
   ]
  },
  {
   "cell_type": "code",
   "execution_count": 178,
   "metadata": {
    "colab": {
     "base_uri": "https://localhost:8080/"
    },
    "id": "NNAZvhGGmBEL",
    "outputId": "8e68cb64-9ae3-4d7f-861f-07e5dd50c4f8"
   },
   "outputs": [
    {
     "name": "stdout",
     "output_type": "stream",
     "text": [
      "+------+---------+--------+-------+---+-----------+--------+\n",
      "|UserID|ProductID|Activity|Browser| OS|Signup Date|Duration|\n",
      "+------+---------+--------+-------+---+-----------+--------+\n",
      "|     0|        0|       0|      0|  0|          0|       0|\n",
      "+------+---------+--------+-------+---+-----------+--------+\n",
      "\n"
     ]
    }
   ],
   "source": [
    "join_df.select([count(when(isnull(c), c)).alias(c) for c in join_df.columns]).show()"
   ]
  },
  {
   "cell_type": "code",
   "execution_count": 179,
   "metadata": {
    "colab": {
     "base_uri": "https://localhost:8080/"
    },
    "id": "NlGRrnfHLgqw",
    "outputId": "e346df95-872b-4a4f-81e5-629facb87e20"
   },
   "outputs": [
    {
     "name": "stdout",
     "output_type": "stream",
     "text": [
      "+-------+-------+---------+--------+--------------+-------+------------------+\n",
      "|summary| UserID|ProductID|Activity|       Browser|     OS|          Duration|\n",
      "+-------+-------+---------+--------+--------------+-------+------------------+\n",
      "|  count| 650695|   650695|  650695|        650695| 650695|            650695|\n",
      "|   mean|   null|     null|    null|          null|   null|11.084757067443272|\n",
      "| stddev|   null|     null|    null|          null|   null| 6.308693590263574|\n",
      "|    min|U100002|      N/A|   CLICK|   Amazon Silk|ANDROID|                 1|\n",
      "|    max|U136965| PR112440|PAGELOAD|Yandex Browser|WINDOWS|                21|\n",
      "+-------+-------+---------+--------+--------------+-------+------------------+\n",
      "\n"
     ]
    }
   ],
   "source": [
    "join_df.describe().show()"
   ]
  },
  {
   "cell_type": "code",
   "execution_count": 180,
   "metadata": {
    "colab": {
     "base_uri": "https://localhost:8080/"
    },
    "id": "8SZ0t10FAsYa",
    "outputId": "a9965df8-31a8-403f-9234-789447c590d2"
   },
   "outputs": [
    {
     "name": "stdout",
     "output_type": "stream",
     "text": [
      "+-------+-----+\n",
      "| UserID|COUNT|\n",
      "+-------+-----+\n",
      "|U100364|    0|\n",
      "|U100499|    7|\n",
      "|U100608|    3|\n",
      "|U100611|    0|\n",
      "|U100754|    2|\n",
      "|U100999|    1|\n",
      "|U102315|    6|\n",
      "|U103221|    0|\n",
      "|U103279|    0|\n",
      "|U103647|    5|\n",
      "|U103859|    3|\n",
      "|U103874|    2|\n",
      "|U103924|    2|\n",
      "|U104238|    3|\n",
      "|U104440|    1|\n",
      "|U104625|    4|\n",
      "|U104644|    2|\n",
      "|U104722|    6|\n",
      "|U105187|    1|\n",
      "|U105380|    1|\n",
      "+-------+-----+\n",
      "only showing top 20 rows\n",
      "\n"
     ]
    }
   ],
   "source": [
    " # No_of_days_Visited_7_Days\n",
    "    \n",
    "visit_7_df = join_df.groupBy(['UserID']).agg(countDistinct(when(col('Duration') < 8, col('Duration') ).otherwise(None)).alias('COUNT'))\n",
    "visit_7_df.show()"
   ]
  },
  {
   "cell_type": "code",
   "execution_count": 181,
   "metadata": {
    "colab": {
     "base_uri": "https://localhost:8080/"
    },
    "id": "kzq3adPKqfIC",
    "outputId": "8a9f7002-ccbb-4e5c-e1b3-556e612122b5"
   },
   "outputs": [
    {
     "name": "stdout",
     "output_type": "stream",
     "text": [
      "+-------+-------------------------+\n",
      "| UserID|No_of_days_Visited_7_Days|\n",
      "+-------+-------------------------+\n",
      "|U100364|                        0|\n",
      "|U100499|                        7|\n",
      "|U100608|                        3|\n",
      "|U100611|                        0|\n",
      "|U100754|                        2|\n",
      "|U100999|                        1|\n",
      "|U102315|                        6|\n",
      "|U103221|                        0|\n",
      "|U103279|                        0|\n",
      "|U103647|                        5|\n",
      "|U103859|                        3|\n",
      "|U103874|                        2|\n",
      "|U103924|                        2|\n",
      "|U104238|                        3|\n",
      "|U104440|                        1|\n",
      "|U104625|                        4|\n",
      "|U104644|                        2|\n",
      "|U104722|                        6|\n",
      "|U105187|                        1|\n",
      "|U105380|                        1|\n",
      "+-------+-------------------------+\n",
      "only showing top 20 rows\n",
      "\n"
     ]
    }
   ],
   "source": [
    "No_of_days_Visited_7_Days_df = visit_7_df.withColumnRenamed('COUNT','No_of_days_Visited_7_Days')\n",
    "No_of_days_Visited_7_Days_df.show()"
   ]
  },
  {
   "cell_type": "code",
   "execution_count": 182,
   "metadata": {
    "colab": {
     "base_uri": "https://localhost:8080/"
    },
    "id": "VqDjFFrzxxRj",
    "outputId": "2b4c2292-2bcc-4ed7-bf23-ffb8f70dcf13"
   },
   "outputs": [
    {
     "name": "stdout",
     "output_type": "stream",
     "text": [
      "+-------+-----+\n",
      "| UserID|COUNT|\n",
      "+-------+-----+\n",
      "|U100364|    0|\n",
      "|U100499|  146|\n",
      "|U100608|    4|\n",
      "|U100611|    0|\n",
      "|U100754|    8|\n",
      "|U100999|    1|\n",
      "|U102315|   11|\n",
      "|U103221|    0|\n",
      "|U103279|    0|\n",
      "|U103647|   32|\n",
      "|U103859|    4|\n",
      "|U103874|   50|\n",
      "|U103924|    3|\n",
      "|U104238|   14|\n",
      "|U104440|    0|\n",
      "|U104625|    6|\n",
      "|U104644|    3|\n",
      "|U104722|   15|\n",
      "|U105187|    3|\n",
      "|U105380|    2|\n",
      "+-------+-----+\n",
      "only showing top 20 rows\n",
      "\n"
     ]
    }
   ],
   "source": [
    "# Pageloads_last_7_days\n",
    "\n",
    "pageload_df = join_df.groupBy(['UserID']).agg(count(when((col('Duration') < 8) & (col('Activity')=='PAGELOAD'), col('Activity') ).otherwise(None)).alias('COUNT'))\n",
    "pageload_df.show()"
   ]
  },
  {
   "cell_type": "code",
   "execution_count": 183,
   "metadata": {
    "colab": {
     "base_uri": "https://localhost:8080/"
    },
    "id": "tadiBLPECGkn",
    "outputId": "1bcecc4b-139a-484e-e202-ddf7efa9f5c7"
   },
   "outputs": [
    {
     "name": "stdout",
     "output_type": "stream",
     "text": [
      "+-------+---------------------+\n",
      "| UserID|Pageloads_last_7_days|\n",
      "+-------+---------------------+\n",
      "|U100364|                    0|\n",
      "|U100499|                  146|\n",
      "|U100608|                    4|\n",
      "|U100611|                    0|\n",
      "|U100754|                    8|\n",
      "|U100999|                    1|\n",
      "|U102315|                   11|\n",
      "|U103221|                    0|\n",
      "|U103279|                    0|\n",
      "|U103647|                   32|\n",
      "|U103859|                    4|\n",
      "|U103874|                   50|\n",
      "|U103924|                    3|\n",
      "|U104238|                   14|\n",
      "|U104440|                    0|\n",
      "|U104625|                    6|\n",
      "|U104644|                    3|\n",
      "|U104722|                   15|\n",
      "|U105187|                    3|\n",
      "|U105380|                    2|\n",
      "+-------+---------------------+\n",
      "only showing top 20 rows\n",
      "\n"
     ]
    }
   ],
   "source": [
    "Pageloads_last_7_days_df = pageload_df.withColumnRenamed('COUNT','Pageloads_last_7_days')\n",
    "Pageloads_last_7_days_df.show()"
   ]
  },
  {
   "cell_type": "code",
   "execution_count": 184,
   "metadata": {
    "colab": {
     "base_uri": "https://localhost:8080/"
    },
    "id": "G2NR8Us1C-sS",
    "outputId": "88387271-9cd3-4355-b2ed-244cb675f689"
   },
   "outputs": [
    {
     "name": "stdout",
     "output_type": "stream",
     "text": [
      "+-------+-----+\n",
      "| UserID|COUNT|\n",
      "+-------+-----+\n",
      "|U100364|    0|\n",
      "|U100499| 3117|\n",
      "|U100608|    2|\n",
      "|U100611|    0|\n",
      "|U100754|   40|\n",
      "|U100999|    2|\n",
      "|U102315|   37|\n",
      "|U103221|    0|\n",
      "|U103279|    0|\n",
      "|U103647|   16|\n",
      "|U103859|   15|\n",
      "|U103874|   24|\n",
      "|U103924|    0|\n",
      "|U104238|  197|\n",
      "|U104440|    6|\n",
      "|U104625|    3|\n",
      "|U104644|   67|\n",
      "|U104722|    0|\n",
      "|U105187|    1|\n",
      "|U105380|    2|\n",
      "+-------+-----+\n",
      "only showing top 20 rows\n",
      "\n"
     ]
    }
   ],
   "source": [
    "# Clicks_last_7_days\n",
    "\n",
    "click_df = join_df.groupBy(['UserID']).agg(count(when((col('Duration') < 8) & (col('Activity')=='CLICK'), col('Activity') ).otherwise(None)).alias('COUNT'))\n",
    "click_df.show()"
   ]
  },
  {
   "cell_type": "code",
   "execution_count": 185,
   "metadata": {
    "colab": {
     "base_uri": "https://localhost:8080/"
    },
    "id": "anco13nPDbGJ",
    "outputId": "d8786362-42b6-4d19-f137-fe36f1e959cc"
   },
   "outputs": [
    {
     "name": "stdout",
     "output_type": "stream",
     "text": [
      "+-------+------------------+\n",
      "| UserID|Clicks_last_7_days|\n",
      "+-------+------------------+\n",
      "|U100364|                 0|\n",
      "|U100499|              3117|\n",
      "|U100608|                 2|\n",
      "|U100611|                 0|\n",
      "|U100754|                40|\n",
      "|U100999|                 2|\n",
      "|U102315|                37|\n",
      "|U103221|                 0|\n",
      "|U103279|                 0|\n",
      "|U103647|                16|\n",
      "|U103859|                15|\n",
      "|U103874|                24|\n",
      "|U103924|                 0|\n",
      "|U104238|               197|\n",
      "|U104440|                 6|\n",
      "|U104625|                 3|\n",
      "|U104644|                67|\n",
      "|U104722|                 0|\n",
      "|U105187|                 1|\n",
      "|U105380|                 2|\n",
      "+-------+------------------+\n",
      "only showing top 20 rows\n",
      "\n"
     ]
    }
   ],
   "source": [
    "Clicks_last_7_days_df = click_df.withColumnRenamed('COUNT','Clicks_last_7_days')\n",
    "Clicks_last_7_days_df.show()"
   ]
  },
  {
   "cell_type": "code",
   "execution_count": 186,
   "metadata": {
    "colab": {
     "base_uri": "https://localhost:8080/"
    },
    "id": "LPjQ5P8mDlJL",
    "outputId": "11dfe564-2990-4a53-81dd-a76360bc4e48"
   },
   "outputs": [
    {
     "name": "stdout",
     "output_type": "stream",
     "text": [
      "+-------+-------+-----------+----------+\n",
      "| UserID|     OS|most_active|row_number|\n",
      "+-------+-------+-----------+----------+\n",
      "|U100364|WINDOWS|          2|         1|\n",
      "|U100499|WINDOWS|       4615|         1|\n",
      "|U100608|ANDROID|          8|         1|\n",
      "|U100611|ANDROID|          4|         1|\n",
      "|U100754|WINDOWS|         90|         1|\n",
      "|U100999|ANDROID|          4|         1|\n",
      "|U102315|WINDOWS|         75|         1|\n",
      "|U103221|WINDOWS|          3|         1|\n",
      "|U103279|ANDROID|          1|         1|\n",
      "|U103647|WINDOWS|         92|         1|\n",
      "|U103859|WINDOWS|         21|         1|\n",
      "|U103874|ANDROID|         74|         1|\n",
      "|U103924|ANDROID|          3|         1|\n",
      "|U104238|  LINUX|        218|         1|\n",
      "|U104440|WINDOWS|          6|         1|\n",
      "|U104625|WINDOWS|         15|         1|\n",
      "|U104644|WINDOWS|         72|         1|\n",
      "|U104722|WINDOWS|         56|         1|\n",
      "|U105187|WINDOWS|          4|         1|\n",
      "|U105380|WINDOWS|          4|         1|\n",
      "+-------+-------+-----------+----------+\n",
      "only showing top 20 rows\n",
      "\n"
     ]
    }
   ],
   "source": [
    "# Most_Active_OS\n",
    "\n",
    "os_df = join_df.groupBy(['UserID','OS']).agg(count(col('OS')).alias('most_active'))\n",
    "w = Window().partitionBy('UserID').orderBy(desc('most_active'))\n",
    "df_with_rank = (os_df.withColumn('row_number', row_number().over(w)))\n",
    "result_df = df_with_rank.where((col('row_number') == 1))\n",
    "result_df.show()"
   ]
  },
  {
   "cell_type": "code",
   "execution_count": 187,
   "metadata": {
    "colab": {
     "base_uri": "https://localhost:8080/"
    },
    "id": "UCrTDh7lExnL",
    "outputId": "2084eaee-9c70-4a1a-d3ef-511c7f630071"
   },
   "outputs": [
    {
     "name": "stdout",
     "output_type": "stream",
     "text": [
      "+-------+--------------+\n",
      "| UserID|Most_Active_OS|\n",
      "+-------+--------------+\n",
      "|U100364|       WINDOWS|\n",
      "|U100499|       WINDOWS|\n",
      "|U100608|       ANDROID|\n",
      "|U100611|       ANDROID|\n",
      "|U100754|       WINDOWS|\n",
      "|U100999|       ANDROID|\n",
      "|U102315|       WINDOWS|\n",
      "|U103221|       WINDOWS|\n",
      "|U103279|       ANDROID|\n",
      "|U103647|       WINDOWS|\n",
      "|U103859|       WINDOWS|\n",
      "|U103874|       ANDROID|\n",
      "|U103924|       ANDROID|\n",
      "|U104238|         LINUX|\n",
      "|U104440|       WINDOWS|\n",
      "|U104625|       WINDOWS|\n",
      "|U104644|       WINDOWS|\n",
      "|U104722|       WINDOWS|\n",
      "|U105187|       WINDOWS|\n",
      "|U105380|       WINDOWS|\n",
      "+-------+--------------+\n",
      "only showing top 20 rows\n",
      "\n"
     ]
    }
   ],
   "source": [
    "Most_Active_OS_df = result_df['UserID','OS'].withColumnRenamed('OS','Most_Active_OS')\n",
    "Most_Active_OS_df.show()"
   ]
  },
  {
   "cell_type": "code",
   "execution_count": 188,
   "metadata": {
    "colab": {
     "base_uri": "https://localhost:8080/"
    },
    "id": "Rqz7QvdsPYmC",
    "outputId": "bfb871c4-8bf5-409d-f9de-9897393a5261"
   },
   "outputs": [
    {
     "name": "stdout",
     "output_type": "stream",
     "text": [
      "+-------+-----------+-----+-------+\n",
      "| UserID|Signup Date|count|Vintage|\n",
      "+-------+-----------+-----+-------+\n",
      "|U100364| 2017-07-23|    2|    309|\n",
      "|U100499| 2017-02-08| 4620|    474|\n",
      "|U100608| 2017-03-01|    8|    453|\n",
      "|U100611| 2016-06-30|    8|    697|\n",
      "|U100754| 2016-08-24|   90|    642|\n",
      "|U100999| 2013-04-03|    4|   1881|\n",
      "|U102315| 2018-03-03|   75|     86|\n",
      "|U103221| 2018-04-03|    3|     55|\n",
      "|U103279| 2018-01-27|    1|    121|\n",
      "|U103647| 2018-02-17|   92|    100|\n",
      "|U103859| 2015-05-29|   21|   1095|\n",
      "|U103874| 2015-12-31|   75|    879|\n",
      "|U103924| 2017-10-06|    3|    234|\n",
      "|U104238| 2017-03-30|  218|    424|\n",
      "|U104440| 2018-02-01|    6|    116|\n",
      "|U104625| 2016-08-10|   15|    656|\n",
      "|U104644| 2018-03-29|   72|     60|\n",
      "|U104722| 2018-03-24|   56|     65|\n",
      "|U105187| 2018-02-18|    4|     99|\n",
      "|U105380| 2015-11-21|    4|    919|\n",
      "+-------+-----------+-----+-------+\n",
      "only showing top 20 rows\n",
      "\n"
     ]
    }
   ],
   "source": [
    "# User_Vintage\n",
    "\n",
    "vintage_df = join_df.groupBy(['UserID','Signup Date']).count()\n",
    "vintage_df = vintage_df.withColumn('Vintage', datediff(lit(target_date), 'Signup Date'))\n",
    "vintage_df.show()\n"
   ]
  },
  {
   "cell_type": "code",
   "execution_count": 189,
   "metadata": {
    "colab": {
     "base_uri": "https://localhost:8080/"
    },
    "id": "9LdeNe_qQaGv",
    "outputId": "be4c0a5a-6d1d-4b93-e729-deb3b12c8667"
   },
   "outputs": [
    {
     "name": "stdout",
     "output_type": "stream",
     "text": [
      "+-------+------------+\n",
      "| UserID|User_Vintage|\n",
      "+-------+------------+\n",
      "|U100364|         309|\n",
      "|U100499|         474|\n",
      "|U100608|         453|\n",
      "|U100611|         697|\n",
      "|U100754|         642|\n",
      "|U100999|        1881|\n",
      "|U102315|          86|\n",
      "|U103221|          55|\n",
      "|U103279|         121|\n",
      "|U103647|         100|\n",
      "|U103859|        1095|\n",
      "|U103874|         879|\n",
      "|U103924|         234|\n",
      "|U104238|         424|\n",
      "|U104440|         116|\n",
      "|U104625|         656|\n",
      "|U104644|          60|\n",
      "|U104722|          65|\n",
      "|U105187|          99|\n",
      "|U105380|         919|\n",
      "+-------+------------+\n",
      "only showing top 20 rows\n",
      "\n"
     ]
    }
   ],
   "source": [
    "User_Vintage_df = vintage_df['UserID','Vintage'].withColumnRenamed('Vintage','User_Vintage')\n",
    "User_Vintage_df.show()"
   ]
  },
  {
   "cell_type": "code",
   "execution_count": 190,
   "metadata": {
    "colab": {
     "base_uri": "https://localhost:8080/"
    },
    "id": "fFe-rpB6RB-z",
    "outputId": "e4980ae5-adbe-45f9-f223-6484db42fdb9"
   },
   "outputs": [
    {
     "name": "stdout",
     "output_type": "stream",
     "text": [
      "+-------+-----+\n",
      "| UserID|COUNT|\n",
      "+-------+-----+\n",
      "|U100364|    0|\n",
      "|U100499|   42|\n",
      "|U100608|    3|\n",
      "|U100611|    1|\n",
      "|U100754|    8|\n",
      "|U100999|    1|\n",
      "|U102315|    3|\n",
      "|U103221|    1|\n",
      "|U103279|    1|\n",
      "|U103647|    3|\n",
      "|U103859|    4|\n",
      "|U103874|    6|\n",
      "|U103924|    2|\n",
      "|U104238|    7|\n",
      "|U104440|    0|\n",
      "|U104625|    7|\n",
      "|U104644|    2|\n",
      "|U104722|    1|\n",
      "|U105187|    2|\n",
      "|U105380|    2|\n",
      "+-------+-----+\n",
      "only showing top 20 rows\n",
      "\n"
     ]
    }
   ],
   "source": [
    "# No_Of_Products_Viewed_15_Days\n",
    "\n",
    "visit_15_df = join_df.groupBy(['UserID']).agg(countDistinct(when((col('Duration') < 16) & (col('Activity')=='PAGELOAD') & (col('ProductID')!='N/A'), col('ProductID') ).otherwise(None)).alias('COUNT'))\n",
    "visit_15_df.show()\n"
   ]
  },
  {
   "cell_type": "code",
   "execution_count": 191,
   "metadata": {
    "colab": {
     "base_uri": "https://localhost:8080/"
    },
    "id": "HYEyRDM6SfZp",
    "outputId": "a31db6d2-c075-4d8c-950f-4410316362e6"
   },
   "outputs": [
    {
     "name": "stdout",
     "output_type": "stream",
     "text": [
      "+-------+-----------------------------+\n",
      "| UserID|No_Of_Products_Viewed_15_Days|\n",
      "+-------+-----------------------------+\n",
      "|U100364|                            0|\n",
      "|U100499|                           42|\n",
      "|U100608|                            3|\n",
      "|U100611|                            1|\n",
      "|U100754|                            8|\n",
      "|U100999|                            1|\n",
      "|U102315|                            3|\n",
      "|U103221|                            1|\n",
      "|U103279|                            1|\n",
      "|U103647|                            3|\n",
      "|U103859|                            4|\n",
      "|U103874|                            6|\n",
      "|U103924|                            2|\n",
      "|U104238|                            7|\n",
      "|U104440|                            0|\n",
      "|U104625|                            7|\n",
      "|U104644|                            2|\n",
      "|U104722|                            1|\n",
      "|U105187|                            2|\n",
      "|U105380|                            2|\n",
      "+-------+-----------------------------+\n",
      "only showing top 20 rows\n",
      "\n"
     ]
    }
   ],
   "source": [
    "No_Of_Products_Viewed_15_Days_df = visit_15_df.withColumnRenamed('COUNT','No_Of_Products_Viewed_15_Days')\n",
    "No_Of_Products_Viewed_15_Days_df.show()"
   ]
  },
  {
   "cell_type": "code",
   "execution_count": 192,
   "metadata": {
    "colab": {
     "base_uri": "https://localhost:8080/"
    },
    "id": "UHN-XaR1TTh-",
    "outputId": "c5a4b810-90d8-40bb-de5f-7c9614335df0"
   },
   "outputs": [
    {
     "name": "stdout",
     "output_type": "stream",
     "text": [
      "+-------+----------+--------+-------------+----------+\n",
      "| UserID| ProductID|Duration|most_frequent|row_number|\n",
      "+-------+----------+--------+-------------+----------+\n",
      "|U100364|Product101|      14|            0|         1|\n",
      "|U100499|  PR101042|       1|           17|         1|\n",
      "|U100608|  PR100341|       1|            1|         1|\n",
      "|U100611|  PR100138|      10|            1|         1|\n",
      "|U100754|  PR100166|       3|            1|         1|\n",
      "|U100999|  PR100017|       2|            1|         1|\n",
      "|U102315|  PR100027|       1|            1|         1|\n",
      "|U103221|  PR100483|       8|            2|         1|\n",
      "|U103279|  PR100017|      11|            1|         1|\n",
      "|U103647|  PR100390|       1|            1|         1|\n",
      "|U103859|  PR100252|       2|            1|         1|\n",
      "|U103874|  PR101042|       1|           13|         1|\n",
      "|U103924|  PR101039|       4|            1|         1|\n",
      "|U104238|  PR101367|       1|            1|         1|\n",
      "|U104440|Product101|       1|            0|         1|\n",
      "|U104625|  PR100210|       1|            1|         1|\n",
      "|U104644|  PR100771|       1|            1|         1|\n",
      "|U104722|  PR100166|       1|            2|         1|\n",
      "|U105187|  PR100017|       1|            2|         1|\n",
      "|U105380|  PR101800|       1|            1|         1|\n",
      "+-------+----------+--------+-------------+----------+\n",
      "only showing top 20 rows\n",
      "\n"
     ]
    }
   ],
   "source": [
    "# Most_Viewed_product_15_Days\n",
    "\n",
    "most_view_prod_df = join_df.groupBy(['UserID','ProductID','Duration']).agg(count(when((col('Duration') < 16) & (col('Activity')=='PAGELOAD') & (col('ProductID')!='N/A'), col('ProductID') ).otherwise(None)).alias('most_frequent')).orderBy('most_frequent', ascending=False)\n",
    "w = Window().partitionBy('UserID').orderBy(asc('Duration'))\n",
    "df_with_rank = (most_view_prod_df.withColumn('row_number', row_number().over(w)))\n",
    "result_df = df_with_rank.where((col('row_number') == 1))\n",
    "result_df = result_df.withColumn('ProductID', when((col('most_frequent')==0),'Product101').otherwise(col('ProductID')))\n",
    "result_df.show()"
   ]
  },
  {
   "cell_type": "code",
   "execution_count": 193,
   "metadata": {
    "colab": {
     "base_uri": "https://localhost:8080/"
    },
    "id": "ZX7hzr5qUPZa",
    "outputId": "0576a11d-1dcf-411c-d238-a2d3a412f427"
   },
   "outputs": [
    {
     "name": "stdout",
     "output_type": "stream",
     "text": [
      "+-------+---------------------------+\n",
      "| UserID|Most_Viewed_product_15_Days|\n",
      "+-------+---------------------------+\n",
      "|U100364|                 Product101|\n",
      "|U100499|                   PR101042|\n",
      "|U100608|                   PR100341|\n",
      "|U100611|                   PR100138|\n",
      "|U100754|                   PR100166|\n",
      "|U100999|                   PR100017|\n",
      "|U102315|                   PR100027|\n",
      "|U103221|                   PR100483|\n",
      "|U103279|                   PR100017|\n",
      "|U103647|                   PR100390|\n",
      "|U103859|                   PR100252|\n",
      "|U103874|                   PR101042|\n",
      "|U103924|                   PR101039|\n",
      "|U104238|                   PR101367|\n",
      "|U104440|                 Product101|\n",
      "|U104625|                   PR100210|\n",
      "|U104644|                   PR100771|\n",
      "|U104722|                   PR100166|\n",
      "|U105187|                   PR100017|\n",
      "|U105380|                   PR101800|\n",
      "+-------+---------------------------+\n",
      "only showing top 20 rows\n",
      "\n"
     ]
    }
   ],
   "source": [
    "Most_Viewed_product_15_Days_df = result_df['UserID','ProductID'].withColumnRenamed('ProductID','Most_Viewed_product_15_Days')\n",
    "Most_Viewed_product_15_Days_df.show()"
   ]
  },
  {
   "cell_type": "code",
   "execution_count": 194,
   "metadata": {
    "colab": {
     "base_uri": "https://localhost:8080/"
    },
    "id": "4c0R-3pxZTF_",
    "outputId": "23392e6c-382e-43ad-8d7f-8462cfd8771b"
   },
   "outputs": [
    {
     "name": "stdout",
     "output_type": "stream",
     "text": [
      "+-------+----------+--------+-----+----------+\n",
      "| UserID| ProductID|Duration|count|row_number|\n",
      "+-------+----------+--------+-----+----------+\n",
      "|U100364|Product101|      14|    0|         1|\n",
      "|U100499|  PR101042|       1|   17|         1|\n",
      "|U100608|  PR100341|       1|    1|         1|\n",
      "|U100611|  PR100138|      10|    1|         1|\n",
      "|U100754|  PR100166|       3|    1|         1|\n",
      "|U100999|  PR100017|       2|    1|         1|\n",
      "|U102315|  PR100027|       1|    1|         1|\n",
      "|U103221|  PR100483|       8|    2|         1|\n",
      "|U103279|  PR100017|      11|    1|         1|\n",
      "|U103647|  PR100390|       1|    1|         1|\n",
      "|U103859|Product101|       2|    0|         1|\n",
      "|U103874|  PR101042|       1|   13|         1|\n",
      "|U103924|  PR101039|       4|    1|         1|\n",
      "|U104238|Product101|       1|    0|         1|\n",
      "|U104440|Product101|       1|    0|         1|\n",
      "|U104625|  PR100210|       1|    1|         1|\n",
      "|U104644|  PR100771|       1|    1|         1|\n",
      "|U104722|  PR100166|       1|    2|         1|\n",
      "|U105187|  PR100220|       1|    1|         1|\n",
      "|U105380|  PR101800|       1|    1|         1|\n",
      "+-------+----------+--------+-----+----------+\n",
      "only showing top 20 rows\n",
      "\n"
     ]
    }
   ],
   "source": [
    "# Recently_Viewed_Product\n",
    "\n",
    "visit_recent_df = join_df.groupBy(['UserID','ProductID','Duration']).agg(count(when((col('Activity')=='PAGELOAD') & (col('ProductID')!='N/A') , col('Duration') ).otherwise(None)).alias('count'))\n",
    "w = Window().partitionBy('UserID').orderBy(asc('Duration'))\n",
    "df_with_rank = (visit_recent_df.withColumn('row_number', row_number().over(w)))\n",
    "result_df = df_with_rank.where((col('row_number') == 1))\n",
    "result_df = result_df.withColumn('ProductID', when((col('count')==0) ,'Product101').otherwise(col('ProductID')))\n",
    "result_df.show()"
   ]
  },
  {
   "cell_type": "code",
   "execution_count": 195,
   "metadata": {
    "colab": {
     "base_uri": "https://localhost:8080/"
    },
    "id": "1-6-1mjFBGF7",
    "outputId": "b89530ce-2598-4238-80e9-024832626065"
   },
   "outputs": [
    {
     "name": "stdout",
     "output_type": "stream",
     "text": [
      "+-------+-----------------------+\n",
      "| UserID|Recently_Viewed_Product|\n",
      "+-------+-----------------------+\n",
      "|U100364|             Product101|\n",
      "|U100499|               PR101042|\n",
      "|U100608|               PR100341|\n",
      "|U100611|               PR100138|\n",
      "|U100754|               PR100166|\n",
      "|U100999|               PR100017|\n",
      "|U102315|               PR100027|\n",
      "|U103221|               PR100483|\n",
      "|U103279|               PR100017|\n",
      "|U103647|               PR100390|\n",
      "|U103859|             Product101|\n",
      "|U103874|               PR101042|\n",
      "|U103924|               PR101039|\n",
      "|U104238|             Product101|\n",
      "|U104440|             Product101|\n",
      "|U104625|               PR100210|\n",
      "|U104644|               PR100771|\n",
      "|U104722|               PR100166|\n",
      "|U105187|               PR100220|\n",
      "|U105380|               PR101800|\n",
      "+-------+-----------------------+\n",
      "only showing top 20 rows\n",
      "\n"
     ]
    }
   ],
   "source": [
    "Recently_Viewed_Product_df = result_df['UserID','ProductID'].withColumnRenamed('ProductID','Recently_Viewed_Product')\n",
    "Recently_Viewed_Product_df.show()"
   ]
  },
  {
   "cell_type": "code",
   "execution_count": 196,
   "metadata": {
    "id": "TcEGjOzYB_Rk"
   },
   "outputs": [],
   "source": [
    "# combining all the dataframes to get the final dataset\n",
    "\n",
    "target_df = No_of_days_Visited_7_Days_df.join(No_Of_Products_Viewed_15_Days_df,['UserID'],'inner').join(User_Vintage_df,['UserID'],'inner') \\\n",
    "            .join(Most_Viewed_product_15_Days_df,['UserID'],'inner').join(Most_Active_OS_df,['UserID'],'inner').join(Recently_Viewed_Product_df,['UserID'],'inner') \\\n",
    "            .join(Pageloads_last_7_days_df,['UserID'],'inner').join(Clicks_last_7_days_df,['UserID'],'inner')\n"
   ]
  },
  {
   "cell_type": "code",
   "execution_count": 197,
   "metadata": {
    "colab": {
     "base_uri": "https://localhost:8080/"
    },
    "id": "98oEr-5vBgiE",
    "outputId": "588f7bfc-eaf8-4263-a52d-63b67a3feebf"
   },
   "outputs": [
    {
     "name": "stdout",
     "output_type": "stream",
     "text": [
      "+-------+-------------------------+-----------------------------+------------+---------------------------+--------------+-----------------------+---------------------+------------------+\n",
      "| UserID|No_of_days_Visited_7_Days|No_Of_Products_Viewed_15_Days|User_Vintage|Most_Viewed_product_15_Days|Most_Active_OS|Recently_Viewed_Product|Pageloads_last_7_days|Clicks_last_7_days|\n",
      "+-------+-------------------------+-----------------------------+------------+---------------------------+--------------+-----------------------+---------------------+------------------+\n",
      "|U100364|                        0|                            0|         309|                 Product101|       WINDOWS|             Product101|                    0|                 0|\n",
      "|U100499|                        7|                           42|         474|                   PR101042|       WINDOWS|               PR101042|                  146|              3117|\n",
      "|U100608|                        3|                            3|         453|                   PR100341|       ANDROID|               PR100341|                    4|                 2|\n",
      "|U100611|                        0|                            1|         697|                   PR100138|       ANDROID|               PR100138|                    0|                 0|\n",
      "|U100754|                        2|                            8|         642|                   PR100166|       WINDOWS|               PR100166|                    8|                40|\n",
      "|U100999|                        1|                            1|        1881|                   PR100017|       ANDROID|               PR100017|                    1|                 2|\n",
      "|U102315|                        6|                            3|          86|                   PR100027|       WINDOWS|               PR100027|                   11|                37|\n",
      "|U103221|                        0|                            1|          55|                   PR100483|       WINDOWS|               PR100483|                    0|                 0|\n",
      "|U103279|                        0|                            1|         121|                   PR100017|       ANDROID|               PR100017|                    0|                 0|\n",
      "|U103647|                        5|                            3|         100|                   PR100390|       WINDOWS|               PR100390|                   32|                16|\n",
      "|U103859|                        3|                            4|        1095|                   PR100252|       WINDOWS|             Product101|                    4|                15|\n",
      "|U103874|                        2|                            6|         879|                   PR101042|       ANDROID|               PR101042|                   50|                24|\n",
      "|U103924|                        2|                            2|         234|                   PR101039|       ANDROID|               PR101039|                    3|                 0|\n",
      "|U104238|                        3|                            7|         424|                   PR101367|         LINUX|             Product101|                   14|               197|\n",
      "|U104440|                        1|                            0|         116|                 Product101|       WINDOWS|             Product101|                    0|                 6|\n",
      "|U104625|                        4|                            7|         656|                   PR100210|       WINDOWS|               PR100210|                    6|                 3|\n",
      "|U104644|                        2|                            2|          60|                   PR100771|       WINDOWS|               PR100771|                    3|                67|\n",
      "|U104722|                        6|                            1|          65|                   PR100166|       WINDOWS|               PR100166|                   15|                 0|\n",
      "|U105187|                        1|                            2|          99|                   PR100017|       WINDOWS|               PR100220|                    3|                 1|\n",
      "|U105380|                        1|                            2|         919|                   PR101800|       WINDOWS|               PR101800|                    2|                 2|\n",
      "+-------+-------------------------+-----------------------------+------------+---------------------------+--------------+-----------------------+---------------------+------------------+\n",
      "only showing top 20 rows\n",
      "\n"
     ]
    }
   ],
   "source": [
    "target_df.show()"
   ]
  },
  {
   "cell_type": "code",
   "execution_count": 198,
   "metadata": {
    "colab": {
     "base_uri": "https://localhost:8080/"
    },
    "id": "oUIP4Qy-DhfG",
    "outputId": "fe407513-2af8-4715-fc30-cd3883f233c4"
   },
   "outputs": [
    {
     "data": {
      "text/plain": [
       "34050"
      ]
     },
     "execution_count": 198,
     "metadata": {
      "tags": []
     },
     "output_type": "execute_result"
    }
   ],
   "source": [
    "target_df.count()"
   ]
  },
  {
   "cell_type": "code",
   "execution_count": 199,
   "metadata": {
    "colab": {
     "base_uri": "https://localhost:8080/"
    },
    "id": "bAOQuz-H9La1",
    "outputId": "ac2a0627-b717-435c-8402-4457963bc201"
   },
   "outputs": [
    {
     "name": "stdout",
     "output_type": "stream",
     "text": [
      "+------+-------------------------+-----------------------------+------------+---------------------------+--------------+-----------------------+---------------------+------------------+\n",
      "|UserID|No_of_days_Visited_7_Days|No_Of_Products_Viewed_15_Days|User_Vintage|Most_Viewed_product_15_Days|Most_Active_OS|Recently_Viewed_Product|Pageloads_last_7_days|Clicks_last_7_days|\n",
      "+------+-------------------------+-----------------------------+------------+---------------------------+--------------+-----------------------+---------------------+------------------+\n",
      "|     0|                        0|                            0|           0|                          0|             0|                      0|                    0|                 0|\n",
      "+------+-------------------------+-----------------------------+------------+---------------------------+--------------+-----------------------+---------------------+------------------+\n",
      "\n"
     ]
    }
   ],
   "source": [
    "# checking for null values\n",
    "\n",
    "target_df.select([count(when(isnull(c), c)).alias(c) for c in target_df.columns]).show()"
   ]
  },
  {
   "cell_type": "code",
   "execution_count": 200,
   "metadata": {
    "colab": {
     "base_uri": "https://localhost:8080/"
    },
    "id": "0tlYg6iF_5_F",
    "outputId": "e8cc7498-63e5-4fe9-fd76-f819a10dff90"
   },
   "outputs": [
    {
     "name": "stdout",
     "output_type": "stream",
     "text": [
      "+-------+-------------------------+-----------------------------+------------+---------------------------+--------------+-----------------------+---------------------+------------------+\n",
      "| UserID|No_of_days_Visited_7_Days|No_Of_Products_Viewed_15_Days|User_Vintage|Most_Viewed_product_15_Days|Most_Active_OS|Recently_Viewed_Product|Pageloads_last_7_days|Clicks_last_7_days|\n",
      "+-------+-------------------------+-----------------------------+------------+---------------------------+--------------+-----------------------+---------------------+------------------+\n",
      "|U100002|                        0|                            2|          53|                   PR100258|       ANDROID|               PR100258|                    0|                 0|\n",
      "|U100003|                        1|                            1|        1021|                   PR100079|       WINDOWS|               PR100079|                    1|                 2|\n",
      "|U100004|                        1|                           13|         341|                   PR100355|       WINDOWS|               PR100355|                    1|                 0|\n",
      "|U100005|                        1|                            3|         681|                   PR100234|       ANDROID|               PR100234|                    2|                 0|\n",
      "|U100006|                        1|                            1|          55|                   PR101111|       ANDROID|               PR101111|                    1|                 0|\n",
      "|U100007|                        0|                            0|         460|                 Product101|       WINDOWS|               PR100265|                    0|                 0|\n",
      "|U100008|                        6|                           16|         395|                   PR100962|       ANDROID|               PR100962|                   25|                35|\n",
      "|U100009|                        4|                           11|          78|                   PR100086|       ANDROID|               PR100640|                    9|                 4|\n",
      "|U100012|                        2|                            6|         124|                   PR100055|      MAC OS X|               PR100055|                    8|                21|\n",
      "|U100013|                        3|                            3|        1687|                   PR100134|      MAC OS X|               PR100134|                    6|                 3|\n",
      "|U100014|                        2|                            3|         155|                 Product101|       WINDOWS|             Product101|                    1|                 2|\n",
      "|U100015|                        1|                            2|         659|                   PR100044|       ANDROID|             Product101|                    3|                14|\n",
      "|U100016|                        1|                            1|         114|                   PR100172|       ANDROID|               PR100172|                    1|                 0|\n",
      "|U100017|                        1|                            0|          45|                 Product101|       WINDOWS|             Product101|                    0|                 2|\n",
      "|U100018|                        5|                            3|          44|                   PR100403|       WINDOWS|               PR100403|                    7|                34|\n",
      "|U100019|                        3|                            6|         317|                   PR100017|       WINDOWS|               PR100017|                    7|                21|\n",
      "|U100020|                        0|                            2|         163|                   PR100017|      MAC OS X|               PR100017|                    0|                 0|\n",
      "|U100023|                        5|                            3|         437|                   PR100181|       WINDOWS|               PR100181|                    7|                 0|\n",
      "|U100024|                        1|                            1|          85|                   PR100025|       ANDROID|               PR100025|                    2|                 1|\n",
      "|U100025|                        0|                            0|         129|                 Product101|       WINDOWS|               PR100240|                    0|                 0|\n",
      "+-------+-------------------------+-----------------------------+------------+---------------------------+--------------+-----------------------+---------------------+------------------+\n",
      "only showing top 20 rows\n",
      "\n"
     ]
    }
   ],
   "source": [
    "# sorting based on UserID\n",
    "\n",
    "target_df = target_df.sort(target_df.UserID.asc())\n",
    "target_df.show()"
   ]
  },
  {
   "cell_type": "code",
   "execution_count": 202,
   "metadata": {
    "id": "hDMs9-YBNePp"
   },
   "outputs": [],
   "source": [
    "# export as csv for submission\n",
    "\n",
    "target_df.toPandas().to_csv(\"sub7.csv\", index=False)\n"
   ]
  },
  {
   "cell_type": "code",
   "execution_count": null,
   "metadata": {
    "id": "Z4Bd7cDZOlsR"
   },
   "outputs": [],
   "source": [
    "\n"
   ]
  }
 ],
 "metadata": {
  "colab": {
   "collapsed_sections": [],
   "name": "Jobathon_Jun21_v7.ipynb",
   "provenance": []
  },
  "kernelspec": {
   "display_name": "Python 3",
   "language": "python",
   "name": "python3"
  },
  "language_info": {
   "codemirror_mode": {
    "name": "ipython",
    "version": 3
   },
   "file_extension": ".py",
   "mimetype": "text/x-python",
   "name": "python",
   "nbconvert_exporter": "python",
   "pygments_lexer": "ipython3",
   "version": "3.8.5"
  }
 },
 "nbformat": 4,
 "nbformat_minor": 1
}
